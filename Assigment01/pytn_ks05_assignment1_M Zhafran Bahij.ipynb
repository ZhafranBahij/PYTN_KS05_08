{
 "cells": [
  {
   "cell_type": "markdown",
   "id": "1a166508",
   "metadata": {},
   "source": [
    "```\n",
    "Kalau kita buat listnya/summary dari perintah di module kode id :\n",
    "\n",
    "A. Area Plot (a)\n",
    "B. Bar Chart (a)\n",
    "C. Histogram (a)\n",
    "D. Pie Chart (a)\n",
    "E. Box Plot  (a)\n",
    "F. Scatter Plot (a)\n",
    "G. Word Clouds\n",
    "H. Folium Maps\n",
    "I. Overall Analysis\n",
    "\n",
    "*for each plot (A - F):\n",
    "- Question/what data we want to visualize\n",
    "- Pre-processing if needed\n",
    "- (a)or analysis :: Conclusion / Kesimpulan\n",
    "```"
   ]
  },
  {
   "cell_type": "markdown",
   "id": "7dfd9562",
   "metadata": {},
   "source": [
    "---\n",
    "# A. Area Plot"
   ]
  },
  {
   "cell_type": "markdown",
   "id": "8df186fc",
   "metadata": {},
   "source": [
    "**Question**  // *Kumpulkan informasi menggunakan analisis kalian* "
   ]
  },
  {
   "cell_type": "markdown",
   "id": "5f1bf174",
   "metadata": {
    "ExecuteTime": {
     "end_time": "2022-03-12T05:39:20.111458Z",
     "start_time": "2022-03-12T05:39:20.087647Z"
    }
   },
   "source": [
    "## Question\n",
    "\n"
   ]
  },
  {
   "cell_type": "markdown",
   "id": "da9a4d12",
   "metadata": {},
   "source": [
    "Membandingkan pertumbuhan kasus kekerasan dengan kasus narkoba setiap tahunnya di Enfield"
   ]
  },
  {
   "cell_type": "markdown",
   "id": "dbc535b3",
   "metadata": {},
   "source": [
    "**Pre-processing if needed** // *Student melakukan preproses dataset sebelum menerapkan visualisasi*"
   ]
  },
  {
   "cell_type": "markdown",
   "id": "6d1fab98",
   "metadata": {},
   "source": [
    "## 1. pre-processing if needed"
   ]
  },
  {
   "cell_type": "code",
   "execution_count": 1,
   "id": "ceb78fdb",
   "metadata": {
    "ExecuteTime": {
     "end_time": "2022-03-15T00:42:49.045642Z",
     "start_time": "2022-03-15T00:41:51.912646Z"
    }
   },
   "outputs": [],
   "source": [
    "import numpy as np\n",
    "import pandas as pd\n",
    "\n",
    "df_london_crime = pd.read_csv('./dataset/london_crime_by_lsoa.csv')"
   ]
  },
  {
   "cell_type": "code",
   "execution_count": 2,
   "id": "2a13ac40",
   "metadata": {
    "ExecuteTime": {
     "end_time": "2022-03-15T00:42:51.174959Z",
     "start_time": "2022-03-15T00:42:49.052228Z"
    }
   },
   "outputs": [
    {
     "data": {
      "text/html": [
       "<div>\n",
       "<style scoped>\n",
       "    .dataframe tbody tr th:only-of-type {\n",
       "        vertical-align: middle;\n",
       "    }\n",
       "\n",
       "    .dataframe tbody tr th {\n",
       "        vertical-align: top;\n",
       "    }\n",
       "\n",
       "    .dataframe thead th {\n",
       "        text-align: right;\n",
       "    }\n",
       "</style>\n",
       "<table border=\"1\" class=\"dataframe\">\n",
       "  <thead>\n",
       "    <tr style=\"text-align: right;\">\n",
       "      <th></th>\n",
       "      <th>lsoa_code</th>\n",
       "      <th>borough</th>\n",
       "      <th>major_category</th>\n",
       "      <th>minor_category</th>\n",
       "      <th>value</th>\n",
       "      <th>year</th>\n",
       "      <th>month</th>\n",
       "    </tr>\n",
       "  </thead>\n",
       "  <tbody>\n",
       "    <tr>\n",
       "      <th>0</th>\n",
       "      <td>E01001116</td>\n",
       "      <td>Croydon</td>\n",
       "      <td>Burglary</td>\n",
       "      <td>Burglary in Other Buildings</td>\n",
       "      <td>0</td>\n",
       "      <td>2016</td>\n",
       "      <td>11</td>\n",
       "    </tr>\n",
       "    <tr>\n",
       "      <th>1</th>\n",
       "      <td>E01001646</td>\n",
       "      <td>Greenwich</td>\n",
       "      <td>Violence Against the Person</td>\n",
       "      <td>Other violence</td>\n",
       "      <td>0</td>\n",
       "      <td>2016</td>\n",
       "      <td>11</td>\n",
       "    </tr>\n",
       "    <tr>\n",
       "      <th>2</th>\n",
       "      <td>E01000677</td>\n",
       "      <td>Bromley</td>\n",
       "      <td>Violence Against the Person</td>\n",
       "      <td>Other violence</td>\n",
       "      <td>0</td>\n",
       "      <td>2015</td>\n",
       "      <td>5</td>\n",
       "    </tr>\n",
       "    <tr>\n",
       "      <th>3</th>\n",
       "      <td>E01003774</td>\n",
       "      <td>Redbridge</td>\n",
       "      <td>Burglary</td>\n",
       "      <td>Burglary in Other Buildings</td>\n",
       "      <td>0</td>\n",
       "      <td>2016</td>\n",
       "      <td>3</td>\n",
       "    </tr>\n",
       "    <tr>\n",
       "      <th>4</th>\n",
       "      <td>E01004563</td>\n",
       "      <td>Wandsworth</td>\n",
       "      <td>Robbery</td>\n",
       "      <td>Personal Property</td>\n",
       "      <td>0</td>\n",
       "      <td>2008</td>\n",
       "      <td>6</td>\n",
       "    </tr>\n",
       "    <tr>\n",
       "      <th>...</th>\n",
       "      <td>...</td>\n",
       "      <td>...</td>\n",
       "      <td>...</td>\n",
       "      <td>...</td>\n",
       "      <td>...</td>\n",
       "      <td>...</td>\n",
       "      <td>...</td>\n",
       "    </tr>\n",
       "    <tr>\n",
       "      <th>13490599</th>\n",
       "      <td>E01000504</td>\n",
       "      <td>Brent</td>\n",
       "      <td>Criminal Damage</td>\n",
       "      <td>Criminal Damage To Dwelling</td>\n",
       "      <td>0</td>\n",
       "      <td>2015</td>\n",
       "      <td>2</td>\n",
       "    </tr>\n",
       "    <tr>\n",
       "      <th>13490600</th>\n",
       "      <td>E01002504</td>\n",
       "      <td>Hillingdon</td>\n",
       "      <td>Robbery</td>\n",
       "      <td>Personal Property</td>\n",
       "      <td>1</td>\n",
       "      <td>2015</td>\n",
       "      <td>6</td>\n",
       "    </tr>\n",
       "    <tr>\n",
       "      <th>13490601</th>\n",
       "      <td>E01004165</td>\n",
       "      <td>Sutton</td>\n",
       "      <td>Burglary</td>\n",
       "      <td>Burglary in a Dwelling</td>\n",
       "      <td>0</td>\n",
       "      <td>2011</td>\n",
       "      <td>2</td>\n",
       "    </tr>\n",
       "    <tr>\n",
       "      <th>13490602</th>\n",
       "      <td>E01001134</td>\n",
       "      <td>Croydon</td>\n",
       "      <td>Robbery</td>\n",
       "      <td>Business Property</td>\n",
       "      <td>0</td>\n",
       "      <td>2011</td>\n",
       "      <td>5</td>\n",
       "    </tr>\n",
       "    <tr>\n",
       "      <th>13490603</th>\n",
       "      <td>E01003413</td>\n",
       "      <td>Merton</td>\n",
       "      <td>Violence Against the Person</td>\n",
       "      <td>Wounding/GBH</td>\n",
       "      <td>0</td>\n",
       "      <td>2015</td>\n",
       "      <td>6</td>\n",
       "    </tr>\n",
       "  </tbody>\n",
       "</table>\n",
       "<p>13490604 rows × 7 columns</p>\n",
       "</div>"
      ],
      "text/plain": [
       "          lsoa_code     borough               major_category  \\\n",
       "0         E01001116     Croydon                     Burglary   \n",
       "1         E01001646   Greenwich  Violence Against the Person   \n",
       "2         E01000677     Bromley  Violence Against the Person   \n",
       "3         E01003774   Redbridge                     Burglary   \n",
       "4         E01004563  Wandsworth                      Robbery   \n",
       "...             ...         ...                          ...   \n",
       "13490599  E01000504       Brent              Criminal Damage   \n",
       "13490600  E01002504  Hillingdon                      Robbery   \n",
       "13490601  E01004165      Sutton                     Burglary   \n",
       "13490602  E01001134     Croydon                      Robbery   \n",
       "13490603  E01003413      Merton  Violence Against the Person   \n",
       "\n",
       "                       minor_category  value  year  month  \n",
       "0         Burglary in Other Buildings      0  2016     11  \n",
       "1                      Other violence      0  2016     11  \n",
       "2                      Other violence      0  2015      5  \n",
       "3         Burglary in Other Buildings      0  2016      3  \n",
       "4                   Personal Property      0  2008      6  \n",
       "...                               ...    ...   ...    ...  \n",
       "13490599  Criminal Damage To Dwelling      0  2015      2  \n",
       "13490600            Personal Property      1  2015      6  \n",
       "13490601       Burglary in a Dwelling      0  2011      2  \n",
       "13490602            Business Property      0  2011      5  \n",
       "13490603                 Wounding/GBH      0  2015      6  \n",
       "\n",
       "[13490604 rows x 7 columns]"
      ]
     },
     "execution_count": 2,
     "metadata": {},
     "output_type": "execute_result"
    }
   ],
   "source": [
    "df_london_crime"
   ]
  },
  {
   "cell_type": "code",
   "execution_count": 3,
   "id": "7662f481",
   "metadata": {
    "ExecuteTime": {
     "end_time": "2022-03-15T00:42:54.174968Z",
     "start_time": "2022-03-15T00:42:51.183571Z"
    }
   },
   "outputs": [
    {
     "data": {
      "text/plain": [
       "array(['Burglary', 'Violence Against the Person', 'Robbery',\n",
       "       'Theft and Handling', 'Criminal Damage', 'Drugs',\n",
       "       'Fraud or Forgery', 'Other Notifiable Offences', 'Sexual Offences'],\n",
       "      dtype=object)"
      ]
     },
     "execution_count": 3,
     "metadata": {},
     "output_type": "execute_result"
    }
   ],
   "source": [
    "df_london_crime['major_category'].unique()"
   ]
  },
  {
   "cell_type": "code",
   "execution_count": 4,
   "id": "04fdafa1",
   "metadata": {
    "ExecuteTime": {
     "end_time": "2022-03-15T00:42:57.249925Z",
     "start_time": "2022-03-15T00:42:54.192193Z"
    }
   },
   "outputs": [
    {
     "data": {
      "text/plain": [
       "array(['Burglary in Other Buildings', 'Other violence',\n",
       "       'Personal Property', 'Other Theft', 'Offensive Weapon',\n",
       "       'Criminal Damage To Other Building', 'Theft/Taking of Pedal Cycle',\n",
       "       'Motor Vehicle Interference & Tampering',\n",
       "       'Theft/Taking Of Motor Vehicle', 'Wounding/GBH',\n",
       "       'Other Theft Person', 'Common Assault', 'Theft From Shops',\n",
       "       'Possession Of Drugs', 'Harassment', 'Handling Stolen Goods',\n",
       "       'Criminal Damage To Dwelling', 'Burglary in a Dwelling',\n",
       "       'Criminal Damage To Motor Vehicle', 'Other Criminal Damage',\n",
       "       'Counted per Victim', 'Going Equipped', 'Other Fraud & Forgery',\n",
       "       'Assault with Injury', 'Drug Trafficking', 'Other Drugs',\n",
       "       'Business Property', 'Other Notifiable', 'Other Sexual',\n",
       "       'Theft From Motor Vehicle', 'Rape', 'Murder'], dtype=object)"
      ]
     },
     "execution_count": 4,
     "metadata": {},
     "output_type": "execute_result"
    }
   ],
   "source": [
    "df_london_crime['minor_category'].unique()"
   ]
  },
  {
   "cell_type": "code",
   "execution_count": 5,
   "id": "8ad4767d",
   "metadata": {
    "ExecuteTime": {
     "end_time": "2022-03-15T00:42:59.670282Z",
     "start_time": "2022-03-15T00:42:57.256009Z"
    }
   },
   "outputs": [
    {
     "data": {
      "text/plain": [
       "array(['Croydon', 'Greenwich', 'Bromley', 'Redbridge', 'Wandsworth',\n",
       "       'Ealing', 'Hounslow', 'Newham', 'Sutton', 'Haringey', 'Lambeth',\n",
       "       'Richmond upon Thames', 'Hillingdon', 'Havering',\n",
       "       'Barking and Dagenham', 'Kingston upon Thames', 'Westminster',\n",
       "       'Hackney', 'Enfield', 'Harrow', 'Lewisham', 'Brent', 'Southwark',\n",
       "       'Barnet', 'Waltham Forest', 'Camden', 'Bexley',\n",
       "       'Kensington and Chelsea', 'Islington', 'Tower Hamlets',\n",
       "       'Hammersmith and Fulham', 'Merton', 'City of London'], dtype=object)"
      ]
     },
     "execution_count": 5,
     "metadata": {},
     "output_type": "execute_result"
    }
   ],
   "source": [
    "df_london_crime['borough'].unique()"
   ]
  },
  {
   "cell_type": "code",
   "execution_count": 6,
   "id": "214292de",
   "metadata": {
    "ExecuteTime": {
     "end_time": "2022-03-15T00:43:00.250447Z",
     "start_time": "2022-03-15T00:42:59.680417Z"
    }
   },
   "outputs": [
    {
     "data": {
      "text/plain": [
       "array([2016, 2015, 2008, 2012, 2010, 2013, 2014, 2011, 2009], dtype=int64)"
      ]
     },
     "execution_count": 6,
     "metadata": {},
     "output_type": "execute_result"
    }
   ],
   "source": [
    "df_london_crime['year'].unique()"
   ]
  },
  {
   "cell_type": "code",
   "execution_count": 7,
   "id": "3bf92c6d",
   "metadata": {
    "ExecuteTime": {
     "end_time": "2022-03-15T00:43:00.630446Z",
     "start_time": "2022-03-15T00:43:00.263113Z"
    }
   },
   "outputs": [
    {
     "data": {
      "text/plain": [
       "array([  0,   1,   2,   3,   4,   9,   5,   6,   7,  10,  18,  11,  16,\n",
       "         8,  72,  12,  53,  14,  19,  15,  17,  20,  43,  50,  37,  57,\n",
       "        21,  13,  80,  25,  28,  22,  58,  33,  29,  38,  88,  23, 111,\n",
       "        40,  39,  60,  26,  48,  32,  66, 122,  47,  30, 118,  75,  54,\n",
       "        51,  67,  45,  35,  24, 117,  27,  68,  99,  65,  84,  34,  55,\n",
       "        81, 112, 119,  71, 113,  36,  61,  46,  31,  59,  44, 149,  49,\n",
       "       241, 104,  69,  77,  41,  64,  42, 167,  73,  74, 165, 107,  86,\n",
       "        52,  63,  79, 103, 106,  70,  90,  91, 148, 130,  62, 136,  98,\n",
       "        92, 141,  78,  82,  56, 194, 168, 152, 204, 114, 153, 116, 157,\n",
       "       131, 120,  96, 101,  97,  95, 309, 142,  87, 146, 195,  93, 166,\n",
       "       144,  94, 161, 135, 170,  76, 127, 210,  83, 150, 186, 156, 124,\n",
       "        85, 174, 221, 163, 109, 110,  89, 115, 138, 140, 121, 139, 105,\n",
       "       129, 177, 237, 235, 226, 199, 240, 189, 280, 100, 102, 288, 134,\n",
       "       244, 211, 158, 187, 137, 123, 164, 108, 224, 201, 233, 132, 220,\n",
       "       126, 154, 133, 257, 178, 214, 147, 229, 176, 202, 230, 155, 162,\n",
       "       160, 203, 248, 215, 172, 192, 208, 232, 197, 173, 216, 205, 180,\n",
       "       151, 184, 179, 243, 188, 228, 159, 254, 267, 247, 196, 181, 193,\n",
       "       260, 169, 281, 212, 183, 128, 217, 143, 239, 200, 249, 125, 253,\n",
       "       145, 185, 190, 286, 258, 182, 175, 198, 262, 251, 236, 300, 218],\n",
       "      dtype=int64)"
      ]
     },
     "execution_count": 7,
     "metadata": {},
     "output_type": "execute_result"
    }
   ],
   "source": [
    "df_london_crime['value'].unique()"
   ]
  },
  {
   "cell_type": "code",
   "execution_count": 8,
   "id": "2335f7dd",
   "metadata": {
    "ExecuteTime": {
     "end_time": "2022-03-15T00:43:09.192116Z",
     "start_time": "2022-03-15T00:43:00.636527Z"
    }
   },
   "outputs": [
    {
     "data": {
      "text/plain": [
       "lsoa_code         0\n",
       "borough           0\n",
       "major_category    0\n",
       "minor_category    0\n",
       "value             0\n",
       "year              0\n",
       "month             0\n",
       "dtype: int64"
      ]
     },
     "execution_count": 8,
     "metadata": {},
     "output_type": "execute_result"
    }
   ],
   "source": [
    "# Apakah ada data yang kosong?\n",
    "df_london_crime.isna().sum()"
   ]
  },
  {
   "cell_type": "code",
   "execution_count": 9,
   "id": "dc330fa1",
   "metadata": {
    "ExecuteTime": {
     "end_time": "2022-03-15T00:43:17.903811Z",
     "start_time": "2022-03-15T00:43:09.201742Z"
    }
   },
   "outputs": [
    {
     "data": {
      "text/html": [
       "<div>\n",
       "<style scoped>\n",
       "    .dataframe tbody tr th:only-of-type {\n",
       "        vertical-align: middle;\n",
       "    }\n",
       "\n",
       "    .dataframe tbody tr th {\n",
       "        vertical-align: top;\n",
       "    }\n",
       "\n",
       "    .dataframe thead th {\n",
       "        text-align: right;\n",
       "    }\n",
       "</style>\n",
       "<table border=\"1\" class=\"dataframe\">\n",
       "  <thead>\n",
       "    <tr style=\"text-align: right;\">\n",
       "      <th></th>\n",
       "      <th>lsoa_code</th>\n",
       "      <th>borough</th>\n",
       "      <th>major_category</th>\n",
       "      <th>minor_category</th>\n",
       "      <th>value</th>\n",
       "      <th>year</th>\n",
       "      <th>month</th>\n",
       "    </tr>\n",
       "  </thead>\n",
       "  <tbody>\n",
       "    <tr>\n",
       "      <th>23</th>\n",
       "      <td>E01001432</td>\n",
       "      <td>Enfield</td>\n",
       "      <td>Drugs</td>\n",
       "      <td>Possession Of Drugs</td>\n",
       "      <td>0</td>\n",
       "      <td>2011</td>\n",
       "      <td>5</td>\n",
       "    </tr>\n",
       "    <tr>\n",
       "      <th>197</th>\n",
       "      <td>E01001431</td>\n",
       "      <td>Enfield</td>\n",
       "      <td>Drugs</td>\n",
       "      <td>Drug Trafficking</td>\n",
       "      <td>0</td>\n",
       "      <td>2008</td>\n",
       "      <td>5</td>\n",
       "    </tr>\n",
       "    <tr>\n",
       "      <th>281</th>\n",
       "      <td>E01001499</td>\n",
       "      <td>Enfield</td>\n",
       "      <td>Violence Against the Person</td>\n",
       "      <td>Other violence</td>\n",
       "      <td>1</td>\n",
       "      <td>2014</td>\n",
       "      <td>9</td>\n",
       "    </tr>\n",
       "    <tr>\n",
       "      <th>363</th>\n",
       "      <td>E01001449</td>\n",
       "      <td>Enfield</td>\n",
       "      <td>Violence Against the Person</td>\n",
       "      <td>Common Assault</td>\n",
       "      <td>0</td>\n",
       "      <td>2008</td>\n",
       "      <td>7</td>\n",
       "    </tr>\n",
       "    <tr>\n",
       "      <th>473</th>\n",
       "      <td>E01001458</td>\n",
       "      <td>Enfield</td>\n",
       "      <td>Drugs</td>\n",
       "      <td>Other Drugs</td>\n",
       "      <td>0</td>\n",
       "      <td>2014</td>\n",
       "      <td>6</td>\n",
       "    </tr>\n",
       "    <tr>\n",
       "      <th>...</th>\n",
       "      <td>...</td>\n",
       "      <td>...</td>\n",
       "      <td>...</td>\n",
       "      <td>...</td>\n",
       "      <td>...</td>\n",
       "      <td>...</td>\n",
       "      <td>...</td>\n",
       "    </tr>\n",
       "    <tr>\n",
       "      <th>13490310</th>\n",
       "      <td>E01001531</td>\n",
       "      <td>Enfield</td>\n",
       "      <td>Violence Against the Person</td>\n",
       "      <td>Common Assault</td>\n",
       "      <td>0</td>\n",
       "      <td>2009</td>\n",
       "      <td>7</td>\n",
       "    </tr>\n",
       "    <tr>\n",
       "      <th>13490370</th>\n",
       "      <td>E01001550</td>\n",
       "      <td>Enfield</td>\n",
       "      <td>Violence Against the Person</td>\n",
       "      <td>Offensive Weapon</td>\n",
       "      <td>0</td>\n",
       "      <td>2009</td>\n",
       "      <td>7</td>\n",
       "    </tr>\n",
       "    <tr>\n",
       "      <th>13490512</th>\n",
       "      <td>E01001432</td>\n",
       "      <td>Enfield</td>\n",
       "      <td>Violence Against the Person</td>\n",
       "      <td>Wounding/GBH</td>\n",
       "      <td>0</td>\n",
       "      <td>2013</td>\n",
       "      <td>10</td>\n",
       "    </tr>\n",
       "    <tr>\n",
       "      <th>13490514</th>\n",
       "      <td>E01001442</td>\n",
       "      <td>Enfield</td>\n",
       "      <td>Violence Against the Person</td>\n",
       "      <td>Common Assault</td>\n",
       "      <td>1</td>\n",
       "      <td>2009</td>\n",
       "      <td>8</td>\n",
       "    </tr>\n",
       "    <tr>\n",
       "      <th>13490540</th>\n",
       "      <td>E01001397</td>\n",
       "      <td>Enfield</td>\n",
       "      <td>Drugs</td>\n",
       "      <td>Drug Trafficking</td>\n",
       "      <td>0</td>\n",
       "      <td>2015</td>\n",
       "      <td>11</td>\n",
       "    </tr>\n",
       "  </tbody>\n",
       "</table>\n",
       "<p>164916 rows × 7 columns</p>\n",
       "</div>"
      ],
      "text/plain": [
       "          lsoa_code  borough               major_category  \\\n",
       "23        E01001432  Enfield                        Drugs   \n",
       "197       E01001431  Enfield                        Drugs   \n",
       "281       E01001499  Enfield  Violence Against the Person   \n",
       "363       E01001449  Enfield  Violence Against the Person   \n",
       "473       E01001458  Enfield                        Drugs   \n",
       "...             ...      ...                          ...   \n",
       "13490310  E01001531  Enfield  Violence Against the Person   \n",
       "13490370  E01001550  Enfield  Violence Against the Person   \n",
       "13490512  E01001432  Enfield  Violence Against the Person   \n",
       "13490514  E01001442  Enfield  Violence Against the Person   \n",
       "13490540  E01001397  Enfield                        Drugs   \n",
       "\n",
       "               minor_category  value  year  month  \n",
       "23        Possession Of Drugs      0  2011      5  \n",
       "197          Drug Trafficking      0  2008      5  \n",
       "281            Other violence      1  2014      9  \n",
       "363            Common Assault      0  2008      7  \n",
       "473               Other Drugs      0  2014      6  \n",
       "...                       ...    ...   ...    ...  \n",
       "13490310       Common Assault      0  2009      7  \n",
       "13490370     Offensive Weapon      0  2009      7  \n",
       "13490512         Wounding/GBH      0  2013     10  \n",
       "13490514       Common Assault      1  2009      8  \n",
       "13490540     Drug Trafficking      0  2015     11  \n",
       "\n",
       "[164916 rows x 7 columns]"
      ]
     },
     "execution_count": 9,
     "metadata": {},
     "output_type": "execute_result"
    }
   ],
   "source": [
    "\"\"\"\n",
    "Menfilter data dengan patokan\n",
    "borough = Enfield\n",
    "major category = Violence or Drugs\n",
    "\"\"\"\n",
    "df_violence_drugs_inenfield = df_london_crime[\n",
    "    ((df_london_crime['major_category'] == 'Violence Against the Person') | \n",
    "    (df_london_crime['major_category'] == 'Drugs')) & \n",
    "    (df_london_crime['borough'] == 'Enfield')\n",
    "]\n",
    "df_violence_drugs_inenfield"
   ]
  },
  {
   "cell_type": "code",
   "execution_count": 10,
   "id": "00c1b22f",
   "metadata": {
    "ExecuteTime": {
     "end_time": "2022-03-15T00:43:18.391223Z",
     "start_time": "2022-03-15T00:43:17.914957Z"
    }
   },
   "outputs": [
    {
     "data": {
      "text/html": [
       "<div>\n",
       "<style scoped>\n",
       "    .dataframe tbody tr th:only-of-type {\n",
       "        vertical-align: middle;\n",
       "    }\n",
       "\n",
       "    .dataframe tbody tr th {\n",
       "        vertical-align: top;\n",
       "    }\n",
       "\n",
       "    .dataframe thead th {\n",
       "        text-align: right;\n",
       "    }\n",
       "</style>\n",
       "<table border=\"1\" class=\"dataframe\">\n",
       "  <thead>\n",
       "    <tr style=\"text-align: right;\">\n",
       "      <th></th>\n",
       "      <th></th>\n",
       "      <th>value</th>\n",
       "    </tr>\n",
       "    <tr>\n",
       "      <th>major_category</th>\n",
       "      <th>year</th>\n",
       "      <th></th>\n",
       "    </tr>\n",
       "  </thead>\n",
       "  <tbody>\n",
       "    <tr>\n",
       "      <th rowspan=\"9\" valign=\"top\">Drugs</th>\n",
       "      <th>2008</th>\n",
       "      <td>2125</td>\n",
       "    </tr>\n",
       "    <tr>\n",
       "      <th>2009</th>\n",
       "      <td>1620</td>\n",
       "    </tr>\n",
       "    <tr>\n",
       "      <th>2010</th>\n",
       "      <td>1649</td>\n",
       "    </tr>\n",
       "    <tr>\n",
       "      <th>2011</th>\n",
       "      <td>1451</td>\n",
       "    </tr>\n",
       "    <tr>\n",
       "      <th>2012</th>\n",
       "      <td>1135</td>\n",
       "    </tr>\n",
       "    <tr>\n",
       "      <th>2013</th>\n",
       "      <td>1557</td>\n",
       "    </tr>\n",
       "    <tr>\n",
       "      <th>2014</th>\n",
       "      <td>1420</td>\n",
       "    </tr>\n",
       "    <tr>\n",
       "      <th>2015</th>\n",
       "      <td>1231</td>\n",
       "    </tr>\n",
       "    <tr>\n",
       "      <th>2016</th>\n",
       "      <td>1063</td>\n",
       "    </tr>\n",
       "    <tr>\n",
       "      <th rowspan=\"9\" valign=\"top\">Violence Against the Person</th>\n",
       "      <th>2008</th>\n",
       "      <td>3767</td>\n",
       "    </tr>\n",
       "    <tr>\n",
       "      <th>2009</th>\n",
       "      <td>4172</td>\n",
       "    </tr>\n",
       "    <tr>\n",
       "      <th>2010</th>\n",
       "      <td>4185</td>\n",
       "    </tr>\n",
       "    <tr>\n",
       "      <th>2011</th>\n",
       "      <td>4074</td>\n",
       "    </tr>\n",
       "    <tr>\n",
       "      <th>2012</th>\n",
       "      <td>4231</td>\n",
       "    </tr>\n",
       "    <tr>\n",
       "      <th>2013</th>\n",
       "      <td>4516</td>\n",
       "    </tr>\n",
       "    <tr>\n",
       "      <th>2014</th>\n",
       "      <td>5965</td>\n",
       "    </tr>\n",
       "    <tr>\n",
       "      <th>2015</th>\n",
       "      <td>6717</td>\n",
       "    </tr>\n",
       "    <tr>\n",
       "      <th>2016</th>\n",
       "      <td>7409</td>\n",
       "    </tr>\n",
       "  </tbody>\n",
       "</table>\n",
       "</div>"
      ],
      "text/plain": [
       "                                  value\n",
       "major_category              year       \n",
       "Drugs                       2008   2125\n",
       "                            2009   1620\n",
       "                            2010   1649\n",
       "                            2011   1451\n",
       "                            2012   1135\n",
       "                            2013   1557\n",
       "                            2014   1420\n",
       "                            2015   1231\n",
       "                            2016   1063\n",
       "Violence Against the Person 2008   3767\n",
       "                            2009   4172\n",
       "                            2010   4185\n",
       "                            2011   4074\n",
       "                            2012   4231\n",
       "                            2013   4516\n",
       "                            2014   5965\n",
       "                            2015   6717\n",
       "                            2016   7409"
      ]
     },
     "execution_count": 10,
     "metadata": {},
     "output_type": "execute_result"
    }
   ],
   "source": [
    "\"\"\"\n",
    "Melakukan sum terhadap jumlah kasusnya\n",
    "\"\"\"\n",
    "df_vde = df_violence_drugs_inenfield.groupby(by=['major_category', 'year']).sum()\n",
    "df_vde.drop(columns=['month'], inplace=True)\n",
    "df_vde"
   ]
  },
  {
   "cell_type": "code",
   "execution_count": 11,
   "id": "00a8eaa5",
   "metadata": {
    "ExecuteTime": {
     "end_time": "2022-03-15T00:43:18.611974Z",
     "start_time": "2022-03-15T00:43:18.397303Z"
    },
    "code_folding": []
   },
   "outputs": [
    {
     "data": {
      "text/html": [
       "<div>\n",
       "<style scoped>\n",
       "    .dataframe tbody tr th:only-of-type {\n",
       "        vertical-align: middle;\n",
       "    }\n",
       "\n",
       "    .dataframe tbody tr th {\n",
       "        vertical-align: top;\n",
       "    }\n",
       "\n",
       "    .dataframe thead th {\n",
       "        text-align: right;\n",
       "    }\n",
       "</style>\n",
       "<table border=\"1\" class=\"dataframe\">\n",
       "  <thead>\n",
       "    <tr style=\"text-align: right;\">\n",
       "      <th></th>\n",
       "      <th>Drugs</th>\n",
       "      <th>Violence Against the Person</th>\n",
       "    </tr>\n",
       "    <tr>\n",
       "      <th>year</th>\n",
       "      <th></th>\n",
       "      <th></th>\n",
       "    </tr>\n",
       "  </thead>\n",
       "  <tbody>\n",
       "    <tr>\n",
       "      <th>2008</th>\n",
       "      <td>2125</td>\n",
       "      <td>3767</td>\n",
       "    </tr>\n",
       "    <tr>\n",
       "      <th>2009</th>\n",
       "      <td>1620</td>\n",
       "      <td>4172</td>\n",
       "    </tr>\n",
       "    <tr>\n",
       "      <th>2010</th>\n",
       "      <td>1649</td>\n",
       "      <td>4185</td>\n",
       "    </tr>\n",
       "    <tr>\n",
       "      <th>2011</th>\n",
       "      <td>1451</td>\n",
       "      <td>4074</td>\n",
       "    </tr>\n",
       "    <tr>\n",
       "      <th>2012</th>\n",
       "      <td>1135</td>\n",
       "      <td>4231</td>\n",
       "    </tr>\n",
       "    <tr>\n",
       "      <th>2013</th>\n",
       "      <td>1557</td>\n",
       "      <td>4516</td>\n",
       "    </tr>\n",
       "    <tr>\n",
       "      <th>2014</th>\n",
       "      <td>1420</td>\n",
       "      <td>5965</td>\n",
       "    </tr>\n",
       "    <tr>\n",
       "      <th>2015</th>\n",
       "      <td>1231</td>\n",
       "      <td>6717</td>\n",
       "    </tr>\n",
       "    <tr>\n",
       "      <th>2016</th>\n",
       "      <td>1063</td>\n",
       "      <td>7409</td>\n",
       "    </tr>\n",
       "  </tbody>\n",
       "</table>\n",
       "</div>"
      ],
      "text/plain": [
       "      Drugs  Violence Against the Person\n",
       "year                                    \n",
       "2008   2125                         3767\n",
       "2009   1620                         4172\n",
       "2010   1649                         4185\n",
       "2011   1451                         4074\n",
       "2012   1135                         4231\n",
       "2013   1557                         4516\n",
       "2014   1420                         5965\n",
       "2015   1231                         6717\n",
       "2016   1063                         7409"
      ]
     },
     "execution_count": 11,
     "metadata": {},
     "output_type": "execute_result"
    }
   ],
   "source": [
    "\"\"\"\n",
    "Membuat agar year menjadi index dan membuat kolom \n",
    "untuk value dari drugs dan value dari violance \n",
    "\"\"\"\n",
    "df_vde2 = df_vde.reset_index()\n",
    "df_vde2.drop(columns=['major_category'], inplace=True)\n",
    "df_vde2['value2'] = 1000\n",
    "df_vde2['value2'][0:9] = df_vde2['value'][9:]\n",
    "df_vde2 = df_vde2.iloc[:9]\n",
    "df_vde2.set_index(keys='year', inplace=True)\n",
    "df_vde2.rename(columns={\n",
    "    'value' : 'Drugs',\n",
    "    'value2' : 'Violence Against the Person'\n",
    "}, inplace=True)\n",
    "df_vde2"
   ]
  },
  {
   "cell_type": "code",
   "execution_count": 12,
   "id": "03234322",
   "metadata": {
    "ExecuteTime": {
     "end_time": "2022-03-15T00:43:18.708620Z",
     "start_time": "2022-03-15T00:43:18.618012Z"
    }
   },
   "outputs": [
    {
     "data": {
      "text/plain": [
       "Int64Index([2008, 2009, 2010, 2011, 2012, 2013, 2014, 2015, 2016], dtype='int64', name='year')"
      ]
     },
     "execution_count": 12,
     "metadata": {},
     "output_type": "execute_result"
    }
   ],
   "source": [
    "df_vde2.index"
   ]
  },
  {
   "cell_type": "markdown",
   "id": "7f60908c",
   "metadata": {},
   "source": [
    "**Create data visualization** // *Mengimplementasikan area plot menggunakan matplotlib dengan data yang relevan dan sesuai dengan kegunaan plot/grafik*"
   ]
  },
  {
   "cell_type": "markdown",
   "id": "291ecb39",
   "metadata": {},
   "source": [
    "## 2. create visualization"
   ]
  },
  {
   "cell_type": "code",
   "execution_count": 13,
   "id": "9d09cb07",
   "metadata": {
    "ExecuteTime": {
     "end_time": "2022-03-15T00:43:27.783109Z",
     "start_time": "2022-03-15T00:43:18.724725Z"
    }
   },
   "outputs": [],
   "source": [
    "\n",
    "%matplotlib inline\n",
    "import matplotlib as mpl\n",
    "import matplotlib.pyplot as plt\n",
    "\n",
    "mpl.style.use(['ggplot'])"
   ]
  },
  {
   "cell_type": "code",
   "execution_count": 14,
   "id": "9e972cd4",
   "metadata": {
    "ExecuteTime": {
     "end_time": "2022-03-15T00:43:29.719675Z",
     "start_time": "2022-03-15T00:43:27.797207Z"
    }
   },
   "outputs": [
    {
     "data": {
      "image/png": "[encoded data removed]",
      "text/plain": [
       "<Figure size 432x288 with 1 Axes>"
      ]
     },
     "metadata": {},
     "output_type": "display_data"
    }
   ],
   "source": [
    "df_vde2.plot(kind='area', \n",
    "             stacked=False,\n",
    "             alpha=0.5,\n",
    "             xlim=(2008, 2016)\n",
    "            )\n",
    "\n",
    "plt.title('Pertumbuhan Kasus Narkoba dan Kekerasan Setiap Tahun di Enfield')\n",
    "plt.ylabel('Jumlah Kasus')\n",
    "plt.xlabel('Tahun')\n",
    "plt.show()"
   ]
  },
  {
   "cell_type": "markdown",
   "id": "a712ad87",
   "metadata": {},
   "source": [
    "**Conclusion** // *Menarik informasi/kesimpulan berdasarkan area plot yang telah student buat*\n",
    "\n"
   ]
  },
  {
   "cell_type": "markdown",
   "id": "8f9d0de6",
   "metadata": {
    "ExecuteTime": {
     "end_time": "2022-03-12T05:40:48.122512Z",
     "start_time": "2022-03-12T05:40:48.098514Z"
    }
   },
   "source": [
    "## 3. conclusion \n",
    "\n",
    "\n",
    "\n",
    "Peningkatan kekerasan terhadap seseorang di daerah Enfield \n",
    "hampir berbanding terbalik dengan jumlah pengguna narkoba di Enfield"
   ]
  },
  {
   "cell_type": "markdown",
   "id": "4a193849",
   "metadata": {},
   "source": [
    "---\n",
    "# B. Bar Chart"
   ]
  },
  {
   "cell_type": "markdown",
   "id": "c626387e",
   "metadata": {
    "ExecuteTime": {
     "end_time": "2022-03-12T05:40:48.268803Z",
     "start_time": "2022-03-12T05:40:48.131574Z"
    }
   },
   "source": [
    "## Question: \n",
    "Melihat grafik pertahun antara kasus kekerasan dengan kasus pencurian di enfield"
   ]
  },
  {
   "cell_type": "markdown",
   "id": "8f50a9c9",
   "metadata": {},
   "source": [
    "## 1. pre-processing if needed"
   ]
  },
  {
   "cell_type": "code",
   "execution_count": 15,
   "id": "ade0039d",
   "metadata": {
    "ExecuteTime": {
     "end_time": "2022-03-15T00:43:38.463219Z",
     "start_time": "2022-03-15T00:43:29.729094Z"
    }
   },
   "outputs": [
    {
     "data": {
      "text/html": [
       "<div>\n",
       "<style scoped>\n",
       "    .dataframe tbody tr th:only-of-type {\n",
       "        vertical-align: middle;\n",
       "    }\n",
       "\n",
       "    .dataframe tbody tr th {\n",
       "        vertical-align: top;\n",
       "    }\n",
       "\n",
       "    .dataframe thead th {\n",
       "        text-align: right;\n",
       "    }\n",
       "</style>\n",
       "<table border=\"1\" class=\"dataframe\">\n",
       "  <thead>\n",
       "    <tr style=\"text-align: right;\">\n",
       "      <th></th>\n",
       "      <th>Theft and Handling</th>\n",
       "      <th>Violence Against the Person</th>\n",
       "    </tr>\n",
       "    <tr>\n",
       "      <th>year</th>\n",
       "      <th></th>\n",
       "      <th></th>\n",
       "    </tr>\n",
       "  </thead>\n",
       "  <tbody>\n",
       "    <tr>\n",
       "      <th>2008</th>\n",
       "      <td>7454</td>\n",
       "      <td>3767</td>\n",
       "    </tr>\n",
       "    <tr>\n",
       "      <th>2009</th>\n",
       "      <td>6807</td>\n",
       "      <td>4172</td>\n",
       "    </tr>\n",
       "    <tr>\n",
       "      <th>2010</th>\n",
       "      <td>7165</td>\n",
       "      <td>4185</td>\n",
       "    </tr>\n",
       "    <tr>\n",
       "      <th>2011</th>\n",
       "      <td>7847</td>\n",
       "      <td>4074</td>\n",
       "    </tr>\n",
       "    <tr>\n",
       "      <th>2012</th>\n",
       "      <td>8425</td>\n",
       "      <td>4231</td>\n",
       "    </tr>\n",
       "    <tr>\n",
       "      <th>2013</th>\n",
       "      <td>8814</td>\n",
       "      <td>4516</td>\n",
       "    </tr>\n",
       "    <tr>\n",
       "      <th>2014</th>\n",
       "      <td>7995</td>\n",
       "      <td>5965</td>\n",
       "    </tr>\n",
       "    <tr>\n",
       "      <th>2015</th>\n",
       "      <td>7827</td>\n",
       "      <td>6717</td>\n",
       "    </tr>\n",
       "    <tr>\n",
       "      <th>2016</th>\n",
       "      <td>8037</td>\n",
       "      <td>7409</td>\n",
       "    </tr>\n",
       "  </tbody>\n",
       "</table>\n",
       "</div>"
      ],
      "text/plain": [
       "      Theft and Handling  Violence Against the Person\n",
       "year                                                 \n",
       "2008                7454                         3767\n",
       "2009                6807                         4172\n",
       "2010                7165                         4185\n",
       "2011                7847                         4074\n",
       "2012                8425                         4231\n",
       "2013                8814                         4516\n",
       "2014                7995                         5965\n",
       "2015                7827                         6717\n",
       "2016                8037                         7409"
      ]
     },
     "execution_count": 15,
     "metadata": {},
     "output_type": "execute_result"
    }
   ],
   "source": [
    "\"\"\"\n",
    "Menfilter data dengan patokan\n",
    "borough = Enfield\n",
    "major category = Violence or Theft and Handling\n",
    "\"\"\"\n",
    "df_violence_drugs_inenfield = df_london_crime[\n",
    "    ((df_london_crime['major_category'] == 'Violence Against the Person') | \n",
    "    (df_london_crime['major_category'] == 'Theft and Handling')) & \n",
    "    (df_london_crime['borough'] == 'Enfield')\n",
    "]\n",
    "\n",
    "\"\"\"\n",
    "Melakukan sum terhadap jumlah kasusnya\n",
    "\"\"\"\n",
    "df_vde = df_violence_drugs_inenfield.groupby(by=['major_category', 'year']).sum()\n",
    "df_vde.drop(columns=['month'], inplace=True)\n",
    "\n",
    "\"\"\"\n",
    "Membuat agar year menjadi index dan membuat kolom \n",
    "untuk value dari drugs dan value dari violance \n",
    "\"\"\"\n",
    "df_vde2 = df_vde.reset_index()\n",
    "df_vde2.drop(columns=['major_category'], inplace=True)\n",
    "df_vde2['value2'] = 1000\n",
    "df_vde2['value2'][0:9] = df_vde2['value'][9:]\n",
    "df_vde2 = df_vde2.iloc[:9]\n",
    "df_vde2.set_index(keys='year', inplace=True)\n",
    "df_vde2.rename(columns={\n",
    "    'value' : 'Theft and Handling',\n",
    "    'value2' : 'Violence Against the Person'\n",
    "}, inplace=True)\n",
    "df_vde2"
   ]
  },
  {
   "cell_type": "markdown",
   "id": "902cc4d3",
   "metadata": {},
   "source": [
    "## 2. create visualization"
   ]
  },
  {
   "cell_type": "code",
   "execution_count": 16,
   "id": "54184f49",
   "metadata": {
    "ExecuteTime": {
     "end_time": "2022-03-15T00:43:39.140627Z",
     "start_time": "2022-03-15T00:43:38.470310Z"
    }
   },
   "outputs": [
    {
     "data": {
      "image/png": "[encoded data removed]",
      "text/plain": [
       "<Figure size 432x288 with 1 Axes>"
      ]
     },
     "metadata": {},
     "output_type": "display_data"
    }
   ],
   "source": [
    "\n",
    "df_vde2.plot.bar()\n",
    "plt.title('Pertumbuhan Kasus Pencurian dan Kekerasan Setiap Tahun di Enfield', y=1.15)\n",
    "plt.ylim(top=12000)\n",
    "plt.ylabel('Jumlah Kasus')\n",
    "plt.xlabel('Tahun')\n",
    "plt.show()"
   ]
  },
  {
   "cell_type": "markdown",
   "id": "1c3cbb61",
   "metadata": {
    "ExecuteTime": {
     "end_time": "2022-03-12T05:40:59.111788Z",
     "start_time": "2022-03-12T05:40:59.094671Z"
    }
   },
   "source": [
    "## 3. conclusion\n",
    "\n",
    "Kekerasan terhadap orang meningkat dari tahun 2013 hingga 2016, \n",
    "tetapi tingkat pencurian mengalami penurunan pada tahun 2013 - 2014\n",
    "Selanjutnya, tingkat pencurian menjadi sedikit perubahan.\n"
   ]
  },
  {
   "cell_type": "markdown",
   "id": "2b75ef82",
   "metadata": {},
   "source": [
    "---\n",
    "# C. Histogram\n"
   ]
  },
  {
   "cell_type": "markdown",
   "id": "b21c3863",
   "metadata": {
    "ExecuteTime": {
     "end_time": "2022-03-12T05:40:59.270079Z",
     "start_time": "2022-03-12T05:40:59.127891Z"
    }
   },
   "source": [
    "## Question: \n"
   ]
  },
  {
   "cell_type": "markdown",
   "id": "973ee7f4",
   "metadata": {
    "ExecuteTime": {
     "end_time": "2022-03-12T07:30:31.228308Z",
     "start_time": "2022-03-12T07:30:31.165800Z"
    }
   },
   "source": [
    "## 1. pre-processing if needed"
   ]
  },
  {
   "cell_type": "code",
   "execution_count": 17,
   "id": "7ed02923",
   "metadata": {
    "ExecuteTime": {
     "end_time": "2022-03-15T00:43:42.426903Z",
     "start_time": "2022-03-15T00:43:39.156844Z"
    }
   },
   "outputs": [
    {
     "data": {
      "text/html": [
       "<div>\n",
       "<style scoped>\n",
       "    .dataframe tbody tr th:only-of-type {\n",
       "        vertical-align: middle;\n",
       "    }\n",
       "\n",
       "    .dataframe tbody tr th {\n",
       "        vertical-align: top;\n",
       "    }\n",
       "\n",
       "    .dataframe thead th {\n",
       "        text-align: right;\n",
       "    }\n",
       "</style>\n",
       "<table border=\"1\" class=\"dataframe\">\n",
       "  <thead>\n",
       "    <tr style=\"text-align: right;\">\n",
       "      <th></th>\n",
       "      <th>value</th>\n",
       "    </tr>\n",
       "    <tr>\n",
       "      <th>major_category</th>\n",
       "      <th></th>\n",
       "    </tr>\n",
       "  </thead>\n",
       "  <tbody>\n",
       "    <tr>\n",
       "      <th>Burglary</th>\n",
       "      <td>30213</td>\n",
       "    </tr>\n",
       "    <tr>\n",
       "      <th>Criminal Damage</th>\n",
       "      <td>22487</td>\n",
       "    </tr>\n",
       "    <tr>\n",
       "      <th>Drugs</th>\n",
       "      <td>13251</td>\n",
       "    </tr>\n",
       "    <tr>\n",
       "      <th>Fraud or Forgery</th>\n",
       "      <td>132</td>\n",
       "    </tr>\n",
       "    <tr>\n",
       "      <th>Other Notifiable Offences</th>\n",
       "      <td>3293</td>\n",
       "    </tr>\n",
       "    <tr>\n",
       "      <th>Robbery</th>\n",
       "      <td>9059</td>\n",
       "    </tr>\n",
       "    <tr>\n",
       "      <th>Sexual Offences</th>\n",
       "      <td>38</td>\n",
       "    </tr>\n",
       "    <tr>\n",
       "      <th>Theft and Handling</th>\n",
       "      <td>70371</td>\n",
       "    </tr>\n",
       "    <tr>\n",
       "      <th>Violence Against the Person</th>\n",
       "      <td>45036</td>\n",
       "    </tr>\n",
       "  </tbody>\n",
       "</table>\n",
       "</div>"
      ],
      "text/plain": [
       "                             value\n",
       "major_category                    \n",
       "Burglary                     30213\n",
       "Criminal Damage              22487\n",
       "Drugs                        13251\n",
       "Fraud or Forgery               132\n",
       "Other Notifiable Offences     3293\n",
       "Robbery                       9059\n",
       "Sexual Offences                 38\n",
       "Theft and Handling           70371\n",
       "Violence Against the Person  45036"
      ]
     },
     "execution_count": 17,
     "metadata": {},
     "output_type": "execute_result"
    }
   ],
   "source": [
    "df_enfield = df_london_crime[df_london_crime['borough'] == 'Enfield'].copy()\n",
    "df_enfield = df_enfield.groupby(['major_category']).sum()\n",
    "# df_enfield.drop(columns=['month', 'year', 'borough','lsoa_code','minor_category'], inplace=True)\n",
    "df_enfield.drop(columns=['month', 'year'], inplace=True)\n",
    "# df_enfield.reset_index(inplace = True)\n",
    "# df_enfield.set_index('lsoa_code', inplace=True)\n",
    "df_enfield"
   ]
  },
  {
   "cell_type": "markdown",
   "id": "e30cadc2",
   "metadata": {},
   "source": [
    "## 2. create visualization"
   ]
  },
  {
   "cell_type": "code",
   "execution_count": 18,
   "id": "6f5d7382",
   "metadata": {
    "ExecuteTime": {
     "end_time": "2022-03-15T00:43:43.188429Z",
     "start_time": "2022-03-15T00:43:42.436025Z"
    }
   },
   "outputs": [
    {
     "data": {
      "image/png": "[encoded data removed]",
      "text/plain": [
       "<Figure size 1008x504 with 1 Axes>"
      ]
     },
     "metadata": {},
     "output_type": "display_data"
    }
   ],
   "source": [
    "count, bin_edge = np.histogram(df_enfield)\n",
    "df_enfield.plot(kind='hist', xticks=bin_edge, figsize=(14, 7))\n",
    "plt.title('Banyaknya Jenis Kasus dalam Berbagai Frekuensi')\n",
    "plt.ylabel('Frekuensi')\n",
    "plt.xlabel('Banyaknya kasus')\n",
    "plt.show()"
   ]
  },
  {
   "cell_type": "markdown",
   "id": "02e86863",
   "metadata": {
    "ExecuteTime": {
     "end_time": "2022-03-12T05:41:03.386568Z",
     "start_time": "2022-03-12T05:41:03.371372Z"
    }
   },
   "source": [
    "## 3. conclusion\n",
    "\n",
    "Hanya terdapat tiga jenis kasus yang berfrekuensi paling rendah dan satu jenis kasus yang berfrekuensi paling tinggi. "
   ]
  },
  {
   "cell_type": "markdown",
   "id": "ec41a544",
   "metadata": {},
   "source": [
    "---\n",
    "# D. Pie Chart"
   ]
  },
  {
   "cell_type": "markdown",
   "id": "8d4a21cc",
   "metadata": {
    "ExecuteTime": {
     "end_time": "2022-03-12T05:41:03.603930Z",
     "start_time": "2022-03-12T05:41:03.393156Z"
    }
   },
   "source": [
    "## Question:\n",
    "Membandingkan Katergori besar di Enfield"
   ]
  },
  {
   "cell_type": "markdown",
   "id": "a8cadf4b",
   "metadata": {
    "ExecuteTime": {
     "end_time": "2022-03-12T05:41:03.641929Z",
     "start_time": "2022-03-12T05:41:03.617101Z"
    }
   },
   "source": [
    "## 1. pre-processing if needed\n"
   ]
  },
  {
   "cell_type": "code",
   "execution_count": 19,
   "id": "e6c3763c",
   "metadata": {
    "ExecuteTime": {
     "end_time": "2022-03-15T00:43:46.402814Z",
     "start_time": "2022-03-15T00:43:43.198052Z"
    }
   },
   "outputs": [
    {
     "data": {
      "text/html": [
       "<div>\n",
       "<style scoped>\n",
       "    .dataframe tbody tr th:only-of-type {\n",
       "        vertical-align: middle;\n",
       "    }\n",
       "\n",
       "    .dataframe tbody tr th {\n",
       "        vertical-align: top;\n",
       "    }\n",
       "\n",
       "    .dataframe thead th {\n",
       "        text-align: right;\n",
       "    }\n",
       "</style>\n",
       "<table border=\"1\" class=\"dataframe\">\n",
       "  <thead>\n",
       "    <tr style=\"text-align: right;\">\n",
       "      <th></th>\n",
       "      <th>value</th>\n",
       "    </tr>\n",
       "    <tr>\n",
       "      <th>major_category</th>\n",
       "      <th></th>\n",
       "    </tr>\n",
       "  </thead>\n",
       "  <tbody>\n",
       "    <tr>\n",
       "      <th>Burglary</th>\n",
       "      <td>30213</td>\n",
       "    </tr>\n",
       "    <tr>\n",
       "      <th>Criminal Damage</th>\n",
       "      <td>22487</td>\n",
       "    </tr>\n",
       "    <tr>\n",
       "      <th>Drugs</th>\n",
       "      <td>13251</td>\n",
       "    </tr>\n",
       "    <tr>\n",
       "      <th>Fraud or Forgery</th>\n",
       "      <td>132</td>\n",
       "    </tr>\n",
       "    <tr>\n",
       "      <th>Other Notifiable Offences</th>\n",
       "      <td>3293</td>\n",
       "    </tr>\n",
       "    <tr>\n",
       "      <th>Robbery</th>\n",
       "      <td>9059</td>\n",
       "    </tr>\n",
       "    <tr>\n",
       "      <th>Sexual Offences</th>\n",
       "      <td>38</td>\n",
       "    </tr>\n",
       "    <tr>\n",
       "      <th>Theft and Handling</th>\n",
       "      <td>70371</td>\n",
       "    </tr>\n",
       "    <tr>\n",
       "      <th>Violence Against the Person</th>\n",
       "      <td>45036</td>\n",
       "    </tr>\n",
       "  </tbody>\n",
       "</table>\n",
       "</div>"
      ],
      "text/plain": [
       "                             value\n",
       "major_category                    \n",
       "Burglary                     30213\n",
       "Criminal Damage              22487\n",
       "Drugs                        13251\n",
       "Fraud or Forgery               132\n",
       "Other Notifiable Offences     3293\n",
       "Robbery                       9059\n",
       "Sexual Offences                 38\n",
       "Theft and Handling           70371\n",
       "Violence Against the Person  45036"
      ]
     },
     "execution_count": 19,
     "metadata": {},
     "output_type": "execute_result"
    }
   ],
   "source": [
    "\"\"\"\n",
    "Melakukan pengelompokan berdasarkan major_category, lalu\n",
    "buang kolom tahun sama bulan\n",
    "\"\"\"\n",
    "\n",
    "df_enfield_crime = df_london_crime[df_london_crime['borough'] == 'Enfield'].groupby(['major_category']).sum()\n",
    "df_enfield_crime.drop(columns=['year', 'month'], inplace=True)\n",
    "df_enfield_crime"
   ]
  },
  {
   "cell_type": "code",
   "execution_count": 20,
   "id": "a6ed87a1",
   "metadata": {
    "ExecuteTime": {
     "end_time": "2022-03-15T00:43:46.432703Z",
     "start_time": "2022-03-15T00:43:46.411933Z"
    }
   },
   "outputs": [
    {
     "data": {
      "text/html": [
       "<div>\n",
       "<style scoped>\n",
       "    .dataframe tbody tr th:only-of-type {\n",
       "        vertical-align: middle;\n",
       "    }\n",
       "\n",
       "    .dataframe tbody tr th {\n",
       "        vertical-align: top;\n",
       "    }\n",
       "\n",
       "    .dataframe thead th {\n",
       "        text-align: right;\n",
       "    }\n",
       "</style>\n",
       "<table border=\"1\" class=\"dataframe\">\n",
       "  <thead>\n",
       "    <tr style=\"text-align: right;\">\n",
       "      <th></th>\n",
       "      <th>value</th>\n",
       "    </tr>\n",
       "    <tr>\n",
       "      <th>major_category</th>\n",
       "      <th></th>\n",
       "    </tr>\n",
       "  </thead>\n",
       "  <tbody>\n",
       "    <tr>\n",
       "      <th>Burglary</th>\n",
       "      <td>30213</td>\n",
       "    </tr>\n",
       "    <tr>\n",
       "      <th>Criminal Damage</th>\n",
       "      <td>22487</td>\n",
       "    </tr>\n",
       "    <tr>\n",
       "      <th>Drugs</th>\n",
       "      <td>13251</td>\n",
       "    </tr>\n",
       "    <tr>\n",
       "      <th>Other Notifiable Offences</th>\n",
       "      <td>3293</td>\n",
       "    </tr>\n",
       "    <tr>\n",
       "      <th>Robbery</th>\n",
       "      <td>9059</td>\n",
       "    </tr>\n",
       "    <tr>\n",
       "      <th>Theft and Handling</th>\n",
       "      <td>70371</td>\n",
       "    </tr>\n",
       "    <tr>\n",
       "      <th>Violence Against the Person</th>\n",
       "      <td>45036</td>\n",
       "    </tr>\n",
       "  </tbody>\n",
       "</table>\n",
       "</div>"
      ],
      "text/plain": [
       "                             value\n",
       "major_category                    \n",
       "Burglary                     30213\n",
       "Criminal Damage              22487\n",
       "Drugs                        13251\n",
       "Other Notifiable Offences     3293\n",
       "Robbery                       9059\n",
       "Theft and Handling           70371\n",
       "Violence Against the Person  45036"
      ]
     },
     "execution_count": 20,
     "metadata": {},
     "output_type": "execute_result"
    }
   ],
   "source": [
    "\"\"\"\n",
    "Menghapus data yang di bawah 1000 agar merapihkan pie chart\n",
    "yang nantinya akan dibuat\n",
    "\"\"\"\n",
    "\n",
    "df_enfield_crime2 = df_enfield_crime[df_enfield_crime['value'] > 1000]\n",
    "df_enfield_crime2"
   ]
  },
  {
   "cell_type": "markdown",
   "id": "160685b6",
   "metadata": {
    "ExecuteTime": {
     "end_time": "2022-03-12T07:07:56.142813Z",
     "start_time": "2022-03-12T07:07:56.058642Z"
    }
   },
   "source": [
    "## 2. create visualization"
   ]
  },
  {
   "cell_type": "code",
   "execution_count": 21,
   "id": "a314e6ac",
   "metadata": {
    "ExecuteTime": {
     "end_time": "2022-03-15T00:43:47.893558Z",
     "start_time": "2022-03-15T00:43:46.442836Z"
    }
   },
   "outputs": [
    {
     "data": {
      "image/png": "[encoded data removed]",
      "text/plain": [
       "<Figure size 720x2160 with 1 Axes>"
      ]
     },
     "metadata": {},
     "output_type": "display_data"
    }
   ],
   "source": [
    "\"\"\"\n",
    "Membuat piechart beserta persentasenya\n",
    "\"\"\"\n",
    "\n",
    "df_enfield_crime2.plot.pie(y='value', figsize=(10, 30), autopct='%1.1f%%')\n",
    "plt.title('Persentase Data Kejahatan di Enfield')\n",
    "plt.show()"
   ]
  },
  {
   "cell_type": "markdown",
   "id": "79630546",
   "metadata": {
    "ExecuteTime": {
     "end_time": "2022-03-12T05:41:08.263332Z",
     "start_time": "2022-03-12T05:41:08.236431Z"
    }
   },
   "source": [
    "## 3. conclusion\n",
    "Berdasarkan data tersebut, kita mengetahui bahwa\n",
    "Theft and Handling berada di urutan pertama, Violence kedua, Burglary ketiga, dst."
   ]
  },
  {
   "cell_type": "markdown",
   "id": "f7949b67",
   "metadata": {},
   "source": [
    "---\n",
    "# E. Box Plot"
   ]
  },
  {
   "cell_type": "markdown",
   "id": "e81fbcf1",
   "metadata": {
    "ExecuteTime": {
     "end_time": "2022-03-12T05:41:08.420262Z",
     "start_time": "2022-03-12T05:41:08.278682Z"
    }
   },
   "source": [
    "## Question:\n",
    "Membandingkan kasus kekerasan dengan kasus narkoba di Enfield\n"
   ]
  },
  {
   "cell_type": "markdown",
   "id": "35196551",
   "metadata": {},
   "source": [
    "## 1. pre-processing if needed"
   ]
  },
  {
   "cell_type": "code",
   "execution_count": 22,
   "id": "704d2eec",
   "metadata": {
    "ExecuteTime": {
     "end_time": "2022-03-15T00:43:58.479447Z",
     "start_time": "2022-03-15T00:43:47.899642Z"
    }
   },
   "outputs": [
    {
     "data": {
      "text/html": [
       "<div>\n",
       "<style scoped>\n",
       "    .dataframe tbody tr th:only-of-type {\n",
       "        vertical-align: middle;\n",
       "    }\n",
       "\n",
       "    .dataframe tbody tr th {\n",
       "        vertical-align: top;\n",
       "    }\n",
       "\n",
       "    .dataframe thead th {\n",
       "        text-align: right;\n",
       "    }\n",
       "</style>\n",
       "<table border=\"1\" class=\"dataframe\">\n",
       "  <thead>\n",
       "    <tr style=\"text-align: right;\">\n",
       "      <th></th>\n",
       "      <th>lsoa_code</th>\n",
       "      <th>borough</th>\n",
       "      <th>major_category</th>\n",
       "      <th>minor_category</th>\n",
       "      <th>value</th>\n",
       "      <th>year</th>\n",
       "      <th>month</th>\n",
       "    </tr>\n",
       "  </thead>\n",
       "  <tbody>\n",
       "    <tr>\n",
       "      <th>23</th>\n",
       "      <td>E01001432</td>\n",
       "      <td>Enfield</td>\n",
       "      <td>Drugs</td>\n",
       "      <td>Possession Of Drugs</td>\n",
       "      <td>0</td>\n",
       "      <td>2011</td>\n",
       "      <td>5</td>\n",
       "    </tr>\n",
       "    <tr>\n",
       "      <th>197</th>\n",
       "      <td>E01001431</td>\n",
       "      <td>Enfield</td>\n",
       "      <td>Drugs</td>\n",
       "      <td>Drug Trafficking</td>\n",
       "      <td>0</td>\n",
       "      <td>2008</td>\n",
       "      <td>5</td>\n",
       "    </tr>\n",
       "    <tr>\n",
       "      <th>281</th>\n",
       "      <td>E01001499</td>\n",
       "      <td>Enfield</td>\n",
       "      <td>Violence Against the Person</td>\n",
       "      <td>Other violence</td>\n",
       "      <td>1</td>\n",
       "      <td>2014</td>\n",
       "      <td>9</td>\n",
       "    </tr>\n",
       "    <tr>\n",
       "      <th>363</th>\n",
       "      <td>E01001449</td>\n",
       "      <td>Enfield</td>\n",
       "      <td>Violence Against the Person</td>\n",
       "      <td>Common Assault</td>\n",
       "      <td>0</td>\n",
       "      <td>2008</td>\n",
       "      <td>7</td>\n",
       "    </tr>\n",
       "    <tr>\n",
       "      <th>473</th>\n",
       "      <td>E01001458</td>\n",
       "      <td>Enfield</td>\n",
       "      <td>Drugs</td>\n",
       "      <td>Other Drugs</td>\n",
       "      <td>0</td>\n",
       "      <td>2014</td>\n",
       "      <td>6</td>\n",
       "    </tr>\n",
       "    <tr>\n",
       "      <th>...</th>\n",
       "      <td>...</td>\n",
       "      <td>...</td>\n",
       "      <td>...</td>\n",
       "      <td>...</td>\n",
       "      <td>...</td>\n",
       "      <td>...</td>\n",
       "      <td>...</td>\n",
       "    </tr>\n",
       "    <tr>\n",
       "      <th>13490310</th>\n",
       "      <td>E01001531</td>\n",
       "      <td>Enfield</td>\n",
       "      <td>Violence Against the Person</td>\n",
       "      <td>Common Assault</td>\n",
       "      <td>0</td>\n",
       "      <td>2009</td>\n",
       "      <td>7</td>\n",
       "    </tr>\n",
       "    <tr>\n",
       "      <th>13490370</th>\n",
       "      <td>E01001550</td>\n",
       "      <td>Enfield</td>\n",
       "      <td>Violence Against the Person</td>\n",
       "      <td>Offensive Weapon</td>\n",
       "      <td>0</td>\n",
       "      <td>2009</td>\n",
       "      <td>7</td>\n",
       "    </tr>\n",
       "    <tr>\n",
       "      <th>13490512</th>\n",
       "      <td>E01001432</td>\n",
       "      <td>Enfield</td>\n",
       "      <td>Violence Against the Person</td>\n",
       "      <td>Wounding/GBH</td>\n",
       "      <td>0</td>\n",
       "      <td>2013</td>\n",
       "      <td>10</td>\n",
       "    </tr>\n",
       "    <tr>\n",
       "      <th>13490514</th>\n",
       "      <td>E01001442</td>\n",
       "      <td>Enfield</td>\n",
       "      <td>Violence Against the Person</td>\n",
       "      <td>Common Assault</td>\n",
       "      <td>1</td>\n",
       "      <td>2009</td>\n",
       "      <td>8</td>\n",
       "    </tr>\n",
       "    <tr>\n",
       "      <th>13490540</th>\n",
       "      <td>E01001397</td>\n",
       "      <td>Enfield</td>\n",
       "      <td>Drugs</td>\n",
       "      <td>Drug Trafficking</td>\n",
       "      <td>0</td>\n",
       "      <td>2015</td>\n",
       "      <td>11</td>\n",
       "    </tr>\n",
       "  </tbody>\n",
       "</table>\n",
       "<p>164916 rows × 7 columns</p>\n",
       "</div>"
      ],
      "text/plain": [
       "          lsoa_code  borough               major_category  \\\n",
       "23        E01001432  Enfield                        Drugs   \n",
       "197       E01001431  Enfield                        Drugs   \n",
       "281       E01001499  Enfield  Violence Against the Person   \n",
       "363       E01001449  Enfield  Violence Against the Person   \n",
       "473       E01001458  Enfield                        Drugs   \n",
       "...             ...      ...                          ...   \n",
       "13490310  E01001531  Enfield  Violence Against the Person   \n",
       "13490370  E01001550  Enfield  Violence Against the Person   \n",
       "13490512  E01001432  Enfield  Violence Against the Person   \n",
       "13490514  E01001442  Enfield  Violence Against the Person   \n",
       "13490540  E01001397  Enfield                        Drugs   \n",
       "\n",
       "               minor_category  value  year  month  \n",
       "23        Possession Of Drugs      0  2011      5  \n",
       "197          Drug Trafficking      0  2008      5  \n",
       "281            Other violence      1  2014      9  \n",
       "363            Common Assault      0  2008      7  \n",
       "473               Other Drugs      0  2014      6  \n",
       "...                       ...    ...   ...    ...  \n",
       "13490310       Common Assault      0  2009      7  \n",
       "13490370     Offensive Weapon      0  2009      7  \n",
       "13490512         Wounding/GBH      0  2013     10  \n",
       "13490514       Common Assault      1  2009      8  \n",
       "13490540     Drug Trafficking      0  2015     11  \n",
       "\n",
       "[164916 rows x 7 columns]"
      ]
     },
     "execution_count": 22,
     "metadata": {},
     "output_type": "execute_result"
    }
   ],
   "source": [
    "\"\"\"\n",
    "Menfilter data dengan patokan\n",
    "borough = Enfield\n",
    "major category = Violence or Drugs\n",
    "\"\"\"\n",
    "\n",
    "df_violence_drugs_inenfield = df_london_crime[\n",
    "    ((df_london_crime['major_category'] == 'Violence Against the Person') | \n",
    "    (df_london_crime['major_category'] == 'Drugs')) & \n",
    "    (df_london_crime['borough'] == 'Enfield')\n",
    "]\n",
    "df_violence_drugs_inenfield"
   ]
  },
  {
   "cell_type": "code",
   "execution_count": 23,
   "id": "d3379465",
   "metadata": {
    "ExecuteTime": {
     "end_time": "2022-03-15T00:43:58.615740Z",
     "start_time": "2022-03-15T00:43:58.485529Z"
    }
   },
   "outputs": [
    {
     "data": {
      "text/html": [
       "<div>\n",
       "<style scoped>\n",
       "    .dataframe tbody tr th:only-of-type {\n",
       "        vertical-align: middle;\n",
       "    }\n",
       "\n",
       "    .dataframe tbody tr th {\n",
       "        vertical-align: top;\n",
       "    }\n",
       "\n",
       "    .dataframe thead th {\n",
       "        text-align: right;\n",
       "    }\n",
       "</style>\n",
       "<table border=\"1\" class=\"dataframe\">\n",
       "  <thead>\n",
       "    <tr style=\"text-align: right;\">\n",
       "      <th></th>\n",
       "      <th></th>\n",
       "      <th>value</th>\n",
       "    </tr>\n",
       "    <tr>\n",
       "      <th>major_category</th>\n",
       "      <th>year</th>\n",
       "      <th></th>\n",
       "    </tr>\n",
       "  </thead>\n",
       "  <tbody>\n",
       "    <tr>\n",
       "      <th rowspan=\"9\" valign=\"top\">Drugs</th>\n",
       "      <th>2008</th>\n",
       "      <td>2125</td>\n",
       "    </tr>\n",
       "    <tr>\n",
       "      <th>2009</th>\n",
       "      <td>1620</td>\n",
       "    </tr>\n",
       "    <tr>\n",
       "      <th>2010</th>\n",
       "      <td>1649</td>\n",
       "    </tr>\n",
       "    <tr>\n",
       "      <th>2011</th>\n",
       "      <td>1451</td>\n",
       "    </tr>\n",
       "    <tr>\n",
       "      <th>2012</th>\n",
       "      <td>1135</td>\n",
       "    </tr>\n",
       "    <tr>\n",
       "      <th>2013</th>\n",
       "      <td>1557</td>\n",
       "    </tr>\n",
       "    <tr>\n",
       "      <th>2014</th>\n",
       "      <td>1420</td>\n",
       "    </tr>\n",
       "    <tr>\n",
       "      <th>2015</th>\n",
       "      <td>1231</td>\n",
       "    </tr>\n",
       "    <tr>\n",
       "      <th>2016</th>\n",
       "      <td>1063</td>\n",
       "    </tr>\n",
       "    <tr>\n",
       "      <th rowspan=\"9\" valign=\"top\">Violence Against the Person</th>\n",
       "      <th>2008</th>\n",
       "      <td>3767</td>\n",
       "    </tr>\n",
       "    <tr>\n",
       "      <th>2009</th>\n",
       "      <td>4172</td>\n",
       "    </tr>\n",
       "    <tr>\n",
       "      <th>2010</th>\n",
       "      <td>4185</td>\n",
       "    </tr>\n",
       "    <tr>\n",
       "      <th>2011</th>\n",
       "      <td>4074</td>\n",
       "    </tr>\n",
       "    <tr>\n",
       "      <th>2012</th>\n",
       "      <td>4231</td>\n",
       "    </tr>\n",
       "    <tr>\n",
       "      <th>2013</th>\n",
       "      <td>4516</td>\n",
       "    </tr>\n",
       "    <tr>\n",
       "      <th>2014</th>\n",
       "      <td>5965</td>\n",
       "    </tr>\n",
       "    <tr>\n",
       "      <th>2015</th>\n",
       "      <td>6717</td>\n",
       "    </tr>\n",
       "    <tr>\n",
       "      <th>2016</th>\n",
       "      <td>7409</td>\n",
       "    </tr>\n",
       "  </tbody>\n",
       "</table>\n",
       "</div>"
      ],
      "text/plain": [
       "                                  value\n",
       "major_category              year       \n",
       "Drugs                       2008   2125\n",
       "                            2009   1620\n",
       "                            2010   1649\n",
       "                            2011   1451\n",
       "                            2012   1135\n",
       "                            2013   1557\n",
       "                            2014   1420\n",
       "                            2015   1231\n",
       "                            2016   1063\n",
       "Violence Against the Person 2008   3767\n",
       "                            2009   4172\n",
       "                            2010   4185\n",
       "                            2011   4074\n",
       "                            2012   4231\n",
       "                            2013   4516\n",
       "                            2014   5965\n",
       "                            2015   6717\n",
       "                            2016   7409"
      ]
     },
     "execution_count": 23,
     "metadata": {},
     "output_type": "execute_result"
    }
   ],
   "source": [
    "\"\"\"\n",
    "Melakukan sum terhadap jumlah kasusnya\n",
    "\"\"\"\n",
    "df_vde = df_violence_drugs_inenfield.groupby(by=['major_category', 'year']).sum()\n",
    "df_vde.drop(columns=['month'], inplace=True)\n",
    "df_vde"
   ]
  },
  {
   "cell_type": "code",
   "execution_count": 24,
   "id": "e77e6ef1",
   "metadata": {
    "ExecuteTime": {
     "end_time": "2022-03-15T00:43:58.679579Z",
     "start_time": "2022-03-15T00:43:58.628915Z"
    }
   },
   "outputs": [
    {
     "data": {
      "text/html": [
       "<div>\n",
       "<style scoped>\n",
       "    .dataframe tbody tr th:only-of-type {\n",
       "        vertical-align: middle;\n",
       "    }\n",
       "\n",
       "    .dataframe tbody tr th {\n",
       "        vertical-align: top;\n",
       "    }\n",
       "\n",
       "    .dataframe thead th {\n",
       "        text-align: right;\n",
       "    }\n",
       "</style>\n",
       "<table border=\"1\" class=\"dataframe\">\n",
       "  <thead>\n",
       "    <tr style=\"text-align: right;\">\n",
       "      <th></th>\n",
       "      <th>Drugs</th>\n",
       "      <th>Violence Against the Person</th>\n",
       "    </tr>\n",
       "    <tr>\n",
       "      <th>year</th>\n",
       "      <th></th>\n",
       "      <th></th>\n",
       "    </tr>\n",
       "  </thead>\n",
       "  <tbody>\n",
       "    <tr>\n",
       "      <th>2008</th>\n",
       "      <td>2125</td>\n",
       "      <td>3767</td>\n",
       "    </tr>\n",
       "    <tr>\n",
       "      <th>2009</th>\n",
       "      <td>1620</td>\n",
       "      <td>4172</td>\n",
       "    </tr>\n",
       "    <tr>\n",
       "      <th>2010</th>\n",
       "      <td>1649</td>\n",
       "      <td>4185</td>\n",
       "    </tr>\n",
       "    <tr>\n",
       "      <th>2011</th>\n",
       "      <td>1451</td>\n",
       "      <td>4074</td>\n",
       "    </tr>\n",
       "    <tr>\n",
       "      <th>2012</th>\n",
       "      <td>1135</td>\n",
       "      <td>4231</td>\n",
       "    </tr>\n",
       "    <tr>\n",
       "      <th>2013</th>\n",
       "      <td>1557</td>\n",
       "      <td>4516</td>\n",
       "    </tr>\n",
       "    <tr>\n",
       "      <th>2014</th>\n",
       "      <td>1420</td>\n",
       "      <td>5965</td>\n",
       "    </tr>\n",
       "    <tr>\n",
       "      <th>2015</th>\n",
       "      <td>1231</td>\n",
       "      <td>6717</td>\n",
       "    </tr>\n",
       "    <tr>\n",
       "      <th>2016</th>\n",
       "      <td>1063</td>\n",
       "      <td>7409</td>\n",
       "    </tr>\n",
       "  </tbody>\n",
       "</table>\n",
       "</div>"
      ],
      "text/plain": [
       "      Drugs  Violence Against the Person\n",
       "year                                    \n",
       "2008   2125                         3767\n",
       "2009   1620                         4172\n",
       "2010   1649                         4185\n",
       "2011   1451                         4074\n",
       "2012   1135                         4231\n",
       "2013   1557                         4516\n",
       "2014   1420                         5965\n",
       "2015   1231                         6717\n",
       "2016   1063                         7409"
      ]
     },
     "execution_count": 24,
     "metadata": {},
     "output_type": "execute_result"
    }
   ],
   "source": [
    "\"\"\"\n",
    "Membuat agar year menjadi index dan membuat kolom \n",
    "untuk value dari drugs dan value dari violance \n",
    "\"\"\"\n",
    "df_vde2 = df_vde.reset_index()\n",
    "df_vde2.drop(columns=['major_category'], inplace=True)\n",
    "df_vde2['value2'] = 1000\n",
    "df_vde2['value2'][0:9] = df_vde2['value'][9:]\n",
    "df_vde2 = df_vde2.iloc[:9]\n",
    "df_vde2.set_index(keys='year', inplace=True)\n",
    "df_vde2.rename(columns={\n",
    "    'value' : 'Drugs',\n",
    "    'value2' : 'Violence Against the Person'\n",
    "}, inplace=True)\n",
    "df_vde2"
   ]
  },
  {
   "cell_type": "markdown",
   "id": "ca81f87c",
   "metadata": {},
   "source": [
    "## 2. create visualization"
   ]
  },
  {
   "cell_type": "code",
   "execution_count": 25,
   "id": "bd7e95bf",
   "metadata": {
    "ExecuteTime": {
     "end_time": "2022-03-15T00:43:59.265794Z",
     "start_time": "2022-03-15T00:43:58.686169Z"
    }
   },
   "outputs": [
    {
     "data": {
      "image/png": "[encoded data removed]",
      "text/plain": [
       "<Figure size 432x288 with 1 Axes>"
      ]
     },
     "metadata": {},
     "output_type": "display_data"
    }
   ],
   "source": [
    "\n",
    "df_vde2.plot(kind='box', \n",
    "             color='blue',\n",
    "            )\n",
    "\n",
    "plt.title('Perbandingan Kasus Narkoba dan Kekerasan di Enfield')\n",
    "plt.ylabel('Jumlah Kasus')\n",
    "plt.xlabel('Jenis Kasus')\n",
    "plt.show()"
   ]
  },
  {
   "cell_type": "markdown",
   "id": "8047d04d",
   "metadata": {
    "ExecuteTime": {
     "end_time": "2022-03-12T05:41:23.204503Z",
     "start_time": "2022-03-12T05:41:23.194876Z"
    }
   },
   "source": [
    "## 3. conclusion \n",
    "Perbedaan jumlah antara kasus Narkoba dengan kasus kekerasan sangatlah jauh. \n",
    "Bahkan, jumlah kasus per tahun minimal dari kekerasan masih jauh di atas maksimal dari kasus narkoba "
   ]
  },
  {
   "cell_type": "markdown",
   "id": "13b95330",
   "metadata": {},
   "source": [
    "---\n",
    "# F. Scatter Plot"
   ]
  },
  {
   "cell_type": "markdown",
   "id": "c7006446",
   "metadata": {
    "ExecuteTime": {
     "end_time": "2022-03-12T05:41:23.402103Z",
     "start_time": "2022-03-12T05:41:23.212104Z"
    }
   },
   "source": [
    "## Question: ......\n",
    "\n",
    "Pertumbuhan kejahatan di Enfield periode 2008 - 2016"
   ]
  },
  {
   "cell_type": "markdown",
   "id": "2a0a1b8b",
   "metadata": {
    "ExecuteTime": {
     "end_time": "2022-03-12T07:23:12.439233Z",
     "start_time": "2022-03-12T07:23:12.433198Z"
    }
   },
   "source": [
    "## 1. pre-processing if needed"
   ]
  },
  {
   "cell_type": "code",
   "execution_count": 26,
   "id": "8cc674cd",
   "metadata": {
    "ExecuteTime": {
     "end_time": "2022-03-15T00:44:02.562228Z",
     "start_time": "2022-03-15T00:43:59.272382Z"
    },
    "code_folding": []
   },
   "outputs": [
    {
     "data": {
      "text/html": [
       "<div>\n",
       "<style scoped>\n",
       "    .dataframe tbody tr th:only-of-type {\n",
       "        vertical-align: middle;\n",
       "    }\n",
       "\n",
       "    .dataframe tbody tr th {\n",
       "        vertical-align: top;\n",
       "    }\n",
       "\n",
       "    .dataframe thead th {\n",
       "        text-align: right;\n",
       "    }\n",
       "</style>\n",
       "<table border=\"1\" class=\"dataframe\">\n",
       "  <thead>\n",
       "    <tr style=\"text-align: right;\">\n",
       "      <th></th>\n",
       "      <th>year</th>\n",
       "      <th>value</th>\n",
       "    </tr>\n",
       "  </thead>\n",
       "  <tbody>\n",
       "    <tr>\n",
       "      <th>0</th>\n",
       "      <td>2008</td>\n",
       "      <td>21980</td>\n",
       "    </tr>\n",
       "    <tr>\n",
       "      <th>1</th>\n",
       "      <td>2009</td>\n",
       "      <td>21147</td>\n",
       "    </tr>\n",
       "    <tr>\n",
       "      <th>2</th>\n",
       "      <td>2010</td>\n",
       "      <td>20808</td>\n",
       "    </tr>\n",
       "    <tr>\n",
       "      <th>3</th>\n",
       "      <td>2011</td>\n",
       "      <td>21041</td>\n",
       "    </tr>\n",
       "    <tr>\n",
       "      <th>4</th>\n",
       "      <td>2012</td>\n",
       "      <td>21069</td>\n",
       "    </tr>\n",
       "    <tr>\n",
       "      <th>5</th>\n",
       "      <td>2013</td>\n",
       "      <td>21574</td>\n",
       "    </tr>\n",
       "    <tr>\n",
       "      <th>6</th>\n",
       "      <td>2014</td>\n",
       "      <td>21700</td>\n",
       "    </tr>\n",
       "    <tr>\n",
       "      <th>7</th>\n",
       "      <td>2015</td>\n",
       "      <td>22076</td>\n",
       "    </tr>\n",
       "    <tr>\n",
       "      <th>8</th>\n",
       "      <td>2016</td>\n",
       "      <td>22485</td>\n",
       "    </tr>\n",
       "  </tbody>\n",
       "</table>\n",
       "</div>"
      ],
      "text/plain": [
       "   year  value\n",
       "0  2008  21980\n",
       "1  2009  21147\n",
       "2  2010  20808\n",
       "3  2011  21041\n",
       "4  2012  21069\n",
       "5  2013  21574\n",
       "6  2014  21700\n",
       "7  2015  22076\n",
       "8  2016  22485"
      ]
     },
     "execution_count": 26,
     "metadata": {},
     "output_type": "execute_result"
    }
   ],
   "source": [
    "df_enfield = df_london_crime[df_london_crime['borough'] == 'Enfield']\n",
    "df_enfield = df_enfield.groupby(['year']).sum()\n",
    "df_enfield.drop(columns=['month'], inplace=True)\n",
    "df_enfield.reset_index(inplace=True)\n",
    "df_enfield"
   ]
  },
  {
   "cell_type": "markdown",
   "id": "9c1ad0a6",
   "metadata": {},
   "source": [
    "## 2. create visualization"
   ]
  },
  {
   "cell_type": "code",
   "execution_count": 27,
   "id": "6dea7afe",
   "metadata": {
    "ExecuteTime": {
     "end_time": "2022-03-15T00:44:03.290818Z",
     "start_time": "2022-03-15T00:44:02.568310Z"
    }
   },
   "outputs": [
    {
     "data": {
      "image/png": "[encoded data removed]",
      "text/plain": [
       "<Figure size 432x288 with 1 Axes>"
      ]
     },
     "metadata": {},
     "output_type": "display_data"
    }
   ],
   "source": [
    "df_enfield.plot.scatter(x='year', y='value')\n",
    "plt.title('Pertumbuhan Tingkat Kejahatan di Enfield')\n",
    "plt.ylabel('Total Kasus')\n",
    "plt.xlabel('Tahun')\n",
    "plt.show()"
   ]
  },
  {
   "cell_type": "markdown",
   "id": "5323d377",
   "metadata": {
    "ExecuteTime": {
     "end_time": "2022-03-12T05:41:29.751890Z",
     "start_time": "2022-03-12T05:41:26.848596Z"
    }
   },
   "source": [
    "## 3. conclusion\n",
    "\n",
    "Tingkat Kejahatan minimal di tahun 2010 dan maksimal di tahun 2016. Dari tahun 2010 - 2016 \n",
    "mengalami pertumbuhan.\n"
   ]
  },
  {
   "cell_type": "markdown",
   "id": "2997d84d",
   "metadata": {},
   "source": []
  },
  {
   "cell_type": "markdown",
   "id": "b7390108",
   "metadata": {},
   "source": [
    "---\n",
    "# F. Word Cloud"
   ]
  },
  {
   "cell_type": "markdown",
   "id": "1788dbe9",
   "metadata": {
    "ExecuteTime": {
     "end_time": "2022-03-12T05:41:29.887362Z",
     "start_time": "2022-03-12T05:41:29.758938Z"
    }
   },
   "source": [
    "## Question\n",
    "Kejahatan di Enfield dalam bentuk WordCloud"
   ]
  },
  {
   "cell_type": "markdown",
   "id": "65110fe6",
   "metadata": {},
   "source": [
    "## 1.pre-processing if needed"
   ]
  },
  {
   "cell_type": "code",
   "execution_count": 28,
   "id": "2206cbf8",
   "metadata": {
    "ExecuteTime": {
     "end_time": "2022-03-15T00:44:08.402342Z",
     "start_time": "2022-03-15T00:44:03.311084Z"
    }
   },
   "outputs": [
    {
     "data": {
      "text/html": [
       "<div>\n",
       "<style scoped>\n",
       "    .dataframe tbody tr th:only-of-type {\n",
       "        vertical-align: middle;\n",
       "    }\n",
       "\n",
       "    .dataframe tbody tr th {\n",
       "        vertical-align: top;\n",
       "    }\n",
       "\n",
       "    .dataframe thead th {\n",
       "        text-align: right;\n",
       "    }\n",
       "</style>\n",
       "<table border=\"1\" class=\"dataframe\">\n",
       "  <thead>\n",
       "    <tr style=\"text-align: right;\">\n",
       "      <th></th>\n",
       "      <th>value</th>\n",
       "    </tr>\n",
       "    <tr>\n",
       "      <th>major_category</th>\n",
       "      <th></th>\n",
       "    </tr>\n",
       "  </thead>\n",
       "  <tbody>\n",
       "    <tr>\n",
       "      <th>Burglary</th>\n",
       "      <td>30213</td>\n",
       "    </tr>\n",
       "    <tr>\n",
       "      <th>Criminal Damage</th>\n",
       "      <td>22487</td>\n",
       "    </tr>\n",
       "    <tr>\n",
       "      <th>Drugs</th>\n",
       "      <td>13251</td>\n",
       "    </tr>\n",
       "    <tr>\n",
       "      <th>Fraud or Forgery</th>\n",
       "      <td>132</td>\n",
       "    </tr>\n",
       "    <tr>\n",
       "      <th>Other Notifiable Offences</th>\n",
       "      <td>3293</td>\n",
       "    </tr>\n",
       "    <tr>\n",
       "      <th>Robbery</th>\n",
       "      <td>9059</td>\n",
       "    </tr>\n",
       "    <tr>\n",
       "      <th>Sexual Offences</th>\n",
       "      <td>38</td>\n",
       "    </tr>\n",
       "    <tr>\n",
       "      <th>Theft and Handling</th>\n",
       "      <td>70371</td>\n",
       "    </tr>\n",
       "    <tr>\n",
       "      <th>Violence Against the Person</th>\n",
       "      <td>45036</td>\n",
       "    </tr>\n",
       "  </tbody>\n",
       "</table>\n",
       "</div>"
      ],
      "text/plain": [
       "                             value\n",
       "major_category                    \n",
       "Burglary                     30213\n",
       "Criminal Damage              22487\n",
       "Drugs                        13251\n",
       "Fraud or Forgery               132\n",
       "Other Notifiable Offences     3293\n",
       "Robbery                       9059\n",
       "Sexual Offences                 38\n",
       "Theft and Handling           70371\n",
       "Violence Against the Person  45036"
      ]
     },
     "execution_count": 28,
     "metadata": {},
     "output_type": "execute_result"
    }
   ],
   "source": [
    "from wordcloud import WordCloud\n",
    "\n",
    "df_enfield = df_london_crime[df_london_crime['borough'] == 'Enfield']\n",
    "df_enfield_major = df_enfield.groupby(['major_category']).sum()\n",
    "df_enfield_major.drop(columns=['year', 'month'], inplace=True)\n",
    "df_enfield_major"
   ]
  },
  {
   "cell_type": "code",
   "execution_count": 29,
   "id": "ed0d2601",
   "metadata": {
    "ExecuteTime": {
     "end_time": "2022-03-15T00:44:08.434772Z",
     "start_time": "2022-03-15T00:44:08.408426Z"
    }
   },
   "outputs": [
    {
     "data": {
      "text/html": [
       "<div>\n",
       "<style scoped>\n",
       "    .dataframe tbody tr th:only-of-type {\n",
       "        vertical-align: middle;\n",
       "    }\n",
       "\n",
       "    .dataframe tbody tr th {\n",
       "        vertical-align: top;\n",
       "    }\n",
       "\n",
       "    .dataframe thead th {\n",
       "        text-align: right;\n",
       "    }\n",
       "</style>\n",
       "<table border=\"1\" class=\"dataframe\">\n",
       "  <thead>\n",
       "    <tr style=\"text-align: right;\">\n",
       "      <th></th>\n",
       "      <th>value</th>\n",
       "    </tr>\n",
       "    <tr>\n",
       "      <th>major_category</th>\n",
       "      <th></th>\n",
       "    </tr>\n",
       "  </thead>\n",
       "  <tbody>\n",
       "    <tr>\n",
       "      <th>Burglary</th>\n",
       "      <td>30213</td>\n",
       "    </tr>\n",
       "    <tr>\n",
       "      <th>Criminal</th>\n",
       "      <td>22487</td>\n",
       "    </tr>\n",
       "    <tr>\n",
       "      <th>Drugs</th>\n",
       "      <td>13251</td>\n",
       "    </tr>\n",
       "    <tr>\n",
       "      <th>Fraud</th>\n",
       "      <td>132</td>\n",
       "    </tr>\n",
       "    <tr>\n",
       "      <th>Other</th>\n",
       "      <td>3293</td>\n",
       "    </tr>\n",
       "    <tr>\n",
       "      <th>Robbery</th>\n",
       "      <td>9059</td>\n",
       "    </tr>\n",
       "    <tr>\n",
       "      <th>Sexual</th>\n",
       "      <td>38</td>\n",
       "    </tr>\n",
       "    <tr>\n",
       "      <th>Theft</th>\n",
       "      <td>70371</td>\n",
       "    </tr>\n",
       "    <tr>\n",
       "      <th>Violence</th>\n",
       "      <td>45036</td>\n",
       "    </tr>\n",
       "  </tbody>\n",
       "</table>\n",
       "</div>"
      ],
      "text/plain": [
       "                value\n",
       "major_category       \n",
       "Burglary        30213\n",
       "Criminal        22487\n",
       "Drugs           13251\n",
       "Fraud             132\n",
       "Other            3293\n",
       "Robbery          9059\n",
       "Sexual             38\n",
       "Theft           70371\n",
       "Violence        45036"
      ]
     },
     "execution_count": 29,
     "metadata": {},
     "output_type": "execute_result"
    }
   ],
   "source": [
    "df_enfield_major2 = df_enfield_major.rename(index={\n",
    "    'Criminal Damage': 'Criminal',\n",
    "    'Fraud or Forgery': 'Fraud',\n",
    "    'Other Notifiable Offences': 'Other',\n",
    "    'Sexual Offences': 'Sexual',\n",
    "    'Theft and Handling': 'Theft',\n",
    "    'Violence Against the Person': 'Violence'\n",
    "})\n",
    "df_enfield_major2"
   ]
  },
  {
   "cell_type": "code",
   "execution_count": 30,
   "id": "4a0113e4",
   "metadata": {
    "ExecuteTime": {
     "end_time": "2022-03-15T00:44:10.499000Z",
     "start_time": "2022-03-15T00:44:08.441360Z"
    }
   },
   "outputs": [],
   "source": [
    "words = \"\"\n",
    "for x in df_enfield_major2.index.values:\n",
    "    words += (x + \" \")*df_enfield_major2.loc[x].values[0]\n",
    "\n",
    "wordcloud = WordCloud().generate(words)"
   ]
  },
  {
   "cell_type": "markdown",
   "id": "39d89582",
   "metadata": {},
   "source": [
    "## 2. Create Visualization\n"
   ]
  },
  {
   "cell_type": "code",
   "execution_count": 31,
   "id": "d932167d",
   "metadata": {
    "ExecuteTime": {
     "end_time": "2022-03-15T00:44:10.704709Z",
     "start_time": "2022-03-15T00:44:10.505082Z"
    }
   },
   "outputs": [
    {
     "data": {
      "image/png": "[encoded data removed]",
      "text/plain": [
       "<Figure size 432x288 with 1 Axes>"
      ]
     },
     "metadata": {},
     "output_type": "display_data"
    }
   ],
   "source": [
    "fig = plt.figure()\n",
    "\n",
    "plt.imshow(wordcloud, interpolation='bilinear')\n",
    "plt.axis('off')\n",
    "plt.show()"
   ]
  },
  {
   "cell_type": "markdown",
   "id": "5df14ca4",
   "metadata": {
    "ExecuteTime": {
     "end_time": "2022-03-11T08:52:23.007803Z",
     "start_time": "2022-03-11T08:52:23.001761Z"
    }
   },
   "source": [
    "---\n",
    "# F. Folium Maps"
   ]
  },
  {
   "cell_type": "markdown",
   "id": "f4e91f04",
   "metadata": {
    "ExecuteTime": {
     "end_time": "2022-03-12T05:58:00.898323Z",
     "start_time": "2022-03-12T05:58:00.888695Z"
    }
   },
   "source": [
    "## Question\n",
    "Persebaran Kasus Penipuan di Enfield"
   ]
  },
  {
   "cell_type": "markdown",
   "id": "901cfcd4",
   "metadata": {},
   "source": [
    "## 1. Prepocessing Data"
   ]
  },
  {
   "cell_type": "code",
   "execution_count": 32,
   "id": "be163e39",
   "metadata": {
    "ExecuteTime": {
     "end_time": "2022-03-15T00:44:16.199532Z",
     "start_time": "2022-03-15T00:44:10.714335Z"
    }
   },
   "outputs": [
    {
     "data": {
      "text/html": [
       "<div>\n",
       "<style scoped>\n",
       "    .dataframe tbody tr th:only-of-type {\n",
       "        vertical-align: middle;\n",
       "    }\n",
       "\n",
       "    .dataframe tbody tr th {\n",
       "        vertical-align: top;\n",
       "    }\n",
       "\n",
       "    .dataframe thead th {\n",
       "        text-align: right;\n",
       "    }\n",
       "</style>\n",
       "<table border=\"1\" class=\"dataframe\">\n",
       "  <thead>\n",
       "    <tr style=\"text-align: right;\">\n",
       "      <th></th>\n",
       "      <th>lsoa_code</th>\n",
       "      <th>borough</th>\n",
       "      <th>major_category</th>\n",
       "      <th>minor_category</th>\n",
       "      <th>value</th>\n",
       "      <th>year</th>\n",
       "      <th>month</th>\n",
       "    </tr>\n",
       "  </thead>\n",
       "  <tbody>\n",
       "    <tr>\n",
       "      <th>533</th>\n",
       "      <td>E01001450</td>\n",
       "      <td>Enfield</td>\n",
       "      <td>Fraud or Forgery</td>\n",
       "      <td>Other Fraud &amp; Forgery</td>\n",
       "      <td>0</td>\n",
       "      <td>2010</td>\n",
       "      <td>12</td>\n",
       "    </tr>\n",
       "    <tr>\n",
       "      <th>1310</th>\n",
       "      <td>E01001558</td>\n",
       "      <td>Enfield</td>\n",
       "      <td>Fraud or Forgery</td>\n",
       "      <td>Other Fraud &amp; Forgery</td>\n",
       "      <td>0</td>\n",
       "      <td>2008</td>\n",
       "      <td>4</td>\n",
       "    </tr>\n",
       "    <tr>\n",
       "      <th>1877</th>\n",
       "      <td>E01001513</td>\n",
       "      <td>Enfield</td>\n",
       "      <td>Fraud or Forgery</td>\n",
       "      <td>Other Fraud &amp; Forgery</td>\n",
       "      <td>0</td>\n",
       "      <td>2011</td>\n",
       "      <td>6</td>\n",
       "    </tr>\n",
       "    <tr>\n",
       "      <th>3452</th>\n",
       "      <td>E01001447</td>\n",
       "      <td>Enfield</td>\n",
       "      <td>Fraud or Forgery</td>\n",
       "      <td>Other Fraud &amp; Forgery</td>\n",
       "      <td>0</td>\n",
       "      <td>2013</td>\n",
       "      <td>12</td>\n",
       "    </tr>\n",
       "    <tr>\n",
       "      <th>5752</th>\n",
       "      <td>E01001528</td>\n",
       "      <td>Enfield</td>\n",
       "      <td>Fraud or Forgery</td>\n",
       "      <td>Counted per Victim</td>\n",
       "      <td>0</td>\n",
       "      <td>2009</td>\n",
       "      <td>4</td>\n",
       "    </tr>\n",
       "    <tr>\n",
       "      <th>...</th>\n",
       "      <td>...</td>\n",
       "      <td>...</td>\n",
       "      <td>...</td>\n",
       "      <td>...</td>\n",
       "      <td>...</td>\n",
       "      <td>...</td>\n",
       "      <td>...</td>\n",
       "    </tr>\n",
       "    <tr>\n",
       "      <th>13486977</th>\n",
       "      <td>E01001535</td>\n",
       "      <td>Enfield</td>\n",
       "      <td>Fraud or Forgery</td>\n",
       "      <td>Counted per Victim</td>\n",
       "      <td>0</td>\n",
       "      <td>2009</td>\n",
       "      <td>4</td>\n",
       "    </tr>\n",
       "    <tr>\n",
       "      <th>13488135</th>\n",
       "      <td>E01001448</td>\n",
       "      <td>Enfield</td>\n",
       "      <td>Fraud or Forgery</td>\n",
       "      <td>Counted per Victim</td>\n",
       "      <td>0</td>\n",
       "      <td>2011</td>\n",
       "      <td>6</td>\n",
       "    </tr>\n",
       "    <tr>\n",
       "      <th>13488479</th>\n",
       "      <td>E01001568</td>\n",
       "      <td>Enfield</td>\n",
       "      <td>Fraud or Forgery</td>\n",
       "      <td>Counted per Victim</td>\n",
       "      <td>0</td>\n",
       "      <td>2016</td>\n",
       "      <td>12</td>\n",
       "    </tr>\n",
       "    <tr>\n",
       "      <th>13488856</th>\n",
       "      <td>E01001568</td>\n",
       "      <td>Enfield</td>\n",
       "      <td>Fraud or Forgery</td>\n",
       "      <td>Counted per Victim</td>\n",
       "      <td>0</td>\n",
       "      <td>2008</td>\n",
       "      <td>7</td>\n",
       "    </tr>\n",
       "    <tr>\n",
       "      <th>13489853</th>\n",
       "      <td>E01001425</td>\n",
       "      <td>Enfield</td>\n",
       "      <td>Fraud or Forgery</td>\n",
       "      <td>Other Fraud &amp; Forgery</td>\n",
       "      <td>0</td>\n",
       "      <td>2009</td>\n",
       "      <td>7</td>\n",
       "    </tr>\n",
       "  </tbody>\n",
       "</table>\n",
       "<p>9720 rows × 7 columns</p>\n",
       "</div>"
      ],
      "text/plain": [
       "          lsoa_code  borough    major_category         minor_category  value  \\\n",
       "533       E01001450  Enfield  Fraud or Forgery  Other Fraud & Forgery      0   \n",
       "1310      E01001558  Enfield  Fraud or Forgery  Other Fraud & Forgery      0   \n",
       "1877      E01001513  Enfield  Fraud or Forgery  Other Fraud & Forgery      0   \n",
       "3452      E01001447  Enfield  Fraud or Forgery  Other Fraud & Forgery      0   \n",
       "5752      E01001528  Enfield  Fraud or Forgery     Counted per Victim      0   \n",
       "...             ...      ...               ...                    ...    ...   \n",
       "13486977  E01001535  Enfield  Fraud or Forgery     Counted per Victim      0   \n",
       "13488135  E01001448  Enfield  Fraud or Forgery     Counted per Victim      0   \n",
       "13488479  E01001568  Enfield  Fraud or Forgery     Counted per Victim      0   \n",
       "13488856  E01001568  Enfield  Fraud or Forgery     Counted per Victim      0   \n",
       "13489853  E01001425  Enfield  Fraud or Forgery  Other Fraud & Forgery      0   \n",
       "\n",
       "          year  month  \n",
       "533       2010     12  \n",
       "1310      2008      4  \n",
       "1877      2011      6  \n",
       "3452      2013     12  \n",
       "5752      2009      4  \n",
       "...        ...    ...  \n",
       "13486977  2009      4  \n",
       "13488135  2011      6  \n",
       "13488479  2016     12  \n",
       "13488856  2008      7  \n",
       "13489853  2009      7  \n",
       "\n",
       "[9720 rows x 7 columns]"
      ]
     },
     "execution_count": 32,
     "metadata": {},
     "output_type": "execute_result"
    }
   ],
   "source": [
    "# df_fraud_enfield = df_london_crime[\n",
    "#     (df_london_crime['borough'] == 'Enfield') &\n",
    "#     (df_london_crime['major_category'] == 'Fraud or Forgery')\n",
    "# ]\n",
    "# df_fraud_enfield"
   ]
  },
  {
   "cell_type": "markdown",
   "id": "356016c9",
   "metadata": {},
   "source": [
    "## 2. Create Visualization"
   ]
  },
  {
   "cell_type": "code",
   "execution_count": 34,
   "id": "ecc8c9e2",
   "metadata": {
    "ExecuteTime": {
     "end_time": "2022-03-15T01:06:32.987248Z",
     "start_time": "2022-03-15T01:06:32.708075Z"
    }
   },
   "outputs": [
    {
     "data": {
      "text/html": [
       "<div style=\"width:100%;\"><div style=\"position:relative;width:100%;height:0;padding-bottom:60%;\"><span style=\"color:#565656\">Make this Notebook Trusted to load map: File -> Trust Notebook</span><iframe src=\"about:blank\" style=\"position:absolute;width:100%;height:100%;left:0;top:0;border:none !important;\" data-html=%3C%21DOCTYPE%20html%3E%0A%3Chead%3E%20%20%20%20%0A%20%20%20%20%3Cmeta%20http-equiv%3D%22content-type%22%20content%3D%22text/html%3B%20charset%3DUTF-8%22%20/%3E%0A%20%20%20%20%0A%20%20%20%20%20%20%20%20%3Cscript%3E%0A%20%20%20%20%20%20%20%20%20%20%20%20L_NO_TOUCH%20%3D%20false%3B%0A%20%20%20%20%20%20%20%20%20%20%20%20L_DISABLE_3D%20%3D%20false%3B%0A%20%20%20%20%20%20%20%20%3C/script%3E%0A%20%20%20%20%0A%20%20%20%20%3Cstyle%3Ehtml%2C%20body%20%7Bwidth%3A%20100%25%3Bheight%3A%20100%25%3Bmargin%3A%200%3Bpadding%3A%200%3B%7D%3C/style%3E%0A%20%20%20%20%3Cstyle%3E%23map%20%7Bposition%3Aabsolute%3Btop%3A0%3Bbottom%3A0%3Bright%3A0%3Bleft%3A0%3B%7D%3C/style%3E%0A%20%20%20%20%3Cscript%20src%3D%22https%3A//cdn.jsdelivr.net/npm/leaflet%401.6.0/dist/leaflet.js%22%3E%3C/script%3E%0A%20%20%20%20%3Cscript%20src%3D%22https%3A//code.jquery.com/jquery-1.12.4.min.js%22%3E%3C/script%3E%0A%20%20%20%20%3Cscript%20src%3D%22https%3A//maxcdn.bootstrapcdn.com/bootstrap/3.2.0/js/bootstrap.min.js%22%3E%3C/script%3E%0A%20%20%20%20%3Cscript%20src%3D%22https%3A//cdnjs.cloudflare.com/ajax/libs/Leaflet.awesome-markers/2.0.2/leaflet.awesome-markers.js%22%3E%3C/script%3E%0A%20%20%20%20%3Clink%20rel%3D%22stylesheet%22%20href%3D%22https%3A//cdn.jsdelivr.net/npm/leaflet%401.6.0/dist/leaflet.css%22/%3E%0A%20%20%20%20%3Clink%20rel%3D%22stylesheet%22%20href%3D%22https%3A//maxcdn.bootstrapcdn.com/bootstrap/3.2.0/css/bootstrap.min.css%22/%3E%0A%20%20%20%20%3Clink%20rel%3D%22stylesheet%22%20href%3D%22https%3A//maxcdn.bootstrapcdn.com/bootstrap/3.2.0/css/bootstrap-theme.min.css%22/%3E%0A%20%20%20%20%3Clink%20rel%3D%22stylesheet%22%20href%3D%22https%3A//maxcdn.bootstrapcdn.com/font-awesome/4.6.3/css/font-awesome.min.css%22/%3E%0A%20%20%20%20%3Clink%20rel%3D%22stylesheet%22%20href%3D%22https%3A//cdnjs.cloudflare.com/ajax/libs/Leaflet.awesome-markers/2.0.2/leaflet.awesome-markers.css%22/%3E%0A%20%20%20%20%3Clink%20rel%3D%22stylesheet%22%20href%3D%22https%3A//cdn.jsdelivr.net/gh/python-visualization/folium/folium/templates/leaflet.awesome.rotate.min.css%22/%3E%0A%20%20%20%20%0A%20%20%20%20%20%20%20%20%20%20%20%20%3Cmeta%20name%3D%22viewport%22%20content%3D%22width%3Ddevice-width%2C%0A%20%20%20%20%20%20%20%20%20%20%20%20%20%20%20%20initial-scale%3D1.0%2C%20maximum-scale%3D1.0%2C%20user-scalable%3Dno%22%20/%3E%0A%20%20%20%20%20%20%20%20%20%20%20%20%3Cstyle%3E%0A%20%20%20%20%20%20%20%20%20%20%20%20%20%20%20%20%23map_8b03bff1a55d48a8b385022934c0a9c8%20%7B%0A%20%20%20%20%20%20%20%20%20%20%20%20%20%20%20%20%20%20%20%20position%3A%20relative%3B%0A%20%20%20%20%20%20%20%20%20%20%20%20%20%20%20%20%20%20%20%20width%3A%20100.0%25%3B%0A%20%20%20%20%20%20%20%20%20%20%20%20%20%20%20%20%20%20%20%20height%3A%20100.0%25%3B%0A%20%20%20%20%20%20%20%20%20%20%20%20%20%20%20%20%20%20%20%20left%3A%200.0%25%3B%0A%20%20%20%20%20%20%20%20%20%20%20%20%20%20%20%20%20%20%20%20top%3A%200.0%25%3B%0A%20%20%20%20%20%20%20%20%20%20%20%20%20%20%20%20%7D%0A%20%20%20%20%20%20%20%20%20%20%20%20%3C/style%3E%0A%20%20%20%20%20%20%20%20%0A%3C/head%3E%0A%3Cbody%3E%20%20%20%20%0A%20%20%20%20%0A%20%20%20%20%20%20%20%20%20%20%20%20%3Cdiv%20class%3D%22folium-map%22%20id%3D%22map_8b03bff1a55d48a8b385022934c0a9c8%22%20%3E%3C/div%3E%0A%20%20%20%20%20%20%20%20%0A%3C/body%3E%0A%3Cscript%3E%20%20%20%20%0A%20%20%20%20%0A%20%20%20%20%20%20%20%20%20%20%20%20var%20map_8b03bff1a55d48a8b385022934c0a9c8%20%3D%20L.map%28%0A%20%20%20%20%20%20%20%20%20%20%20%20%20%20%20%20%22map_8b03bff1a55d48a8b385022934c0a9c8%22%2C%0A%20%20%20%20%20%20%20%20%20%20%20%20%20%20%20%20%7B%0A%20%20%20%20%20%20%20%20%20%20%20%20%20%20%20%20%20%20%20%20center%3A%20%5B51.507222%2C%20-0.1275%5D%2C%0A%20%20%20%20%20%20%20%20%20%20%20%20%20%20%20%20%20%20%20%20crs%3A%20L.CRS.EPSG3857%2C%0A%20%20%20%20%20%20%20%20%20%20%20%20%20%20%20%20%20%20%20%20zoom%3A%2015%2C%0A%20%20%20%20%20%20%20%20%20%20%20%20%20%20%20%20%20%20%20%20zoomControl%3A%20true%2C%0A%20%20%20%20%20%20%20%20%20%20%20%20%20%20%20%20%20%20%20%20preferCanvas%3A%20false%2C%0A%20%20%20%20%20%20%20%20%20%20%20%20%20%20%20%20%7D%0A%20%20%20%20%20%20%20%20%20%20%20%20%29%3B%0A%0A%20%20%20%20%20%20%20%20%20%20%20%20%0A%0A%20%20%20%20%20%20%20%20%0A%20%20%20%20%0A%20%20%20%20%20%20%20%20%20%20%20%20var%20tile_layer_328f6762514f44a085f4399570226582%20%3D%20L.tileLayer%28%0A%20%20%20%20%20%20%20%20%20%20%20%20%20%20%20%20%22https%3A//%7Bs%7D.tile.openstreetmap.org/%7Bz%7D/%7Bx%7D/%7By%7D.png%22%2C%0A%20%20%20%20%20%20%20%20%20%20%20%20%20%20%20%20%7B%22attribution%22%3A%20%22Data%20by%20%5Cu0026copy%3B%20%5Cu003ca%20href%3D%5C%22http%3A//openstreetmap.org%5C%22%5Cu003eOpenStreetMap%5Cu003c/a%5Cu003e%2C%20under%20%5Cu003ca%20href%3D%5C%22http%3A//www.openstreetmap.org/copyright%5C%22%5Cu003eODbL%5Cu003c/a%5Cu003e.%22%2C%20%22detectRetina%22%3A%20false%2C%20%22maxNativeZoom%22%3A%2018%2C%20%22maxZoom%22%3A%2018%2C%20%22minZoom%22%3A%200%2C%20%22noWrap%22%3A%20false%2C%20%22opacity%22%3A%201%2C%20%22subdomains%22%3A%20%22abc%22%2C%20%22tms%22%3A%20false%7D%0A%20%20%20%20%20%20%20%20%20%20%20%20%29.addTo%28map_8b03bff1a55d48a8b385022934c0a9c8%29%3B%0A%20%20%20%20%20%20%20%20%0A%3C/script%3E onload=\"this.contentDocument.open();this.contentDocument.write(    decodeURIComponent(this.getAttribute('data-html')));this.contentDocument.close();\" allowfullscreen webkitallowfullscreen mozallowfullscreen></iframe></div></div>"
      ],
      "text/plain": [
       "<folium.folium.Map at 0x13b169f9160>"
      ]
     },
     "execution_count": 34,
     "metadata": {},
     "output_type": "execute_result"
    }
   ],
   "source": [
    "\n",
    "import folium\n",
    "world_map = folium.Map(location=[51.507222, -0.1275], zoom_start=15)\n",
    "# world_map.choropleth(\n",
    "#     geo_data='world_countries.json',\n",
    "# #     data=df_fraud_enfield\n",
    "# )\n",
    "world_map"
   ]
  },
  {
   "cell_type": "markdown",
   "id": "5a9eff28",
   "metadata": {},
   "source": [
    "# G.Overall Analisys"
   ]
  },
  {
   "cell_type": "markdown",
   "id": "0cb051de",
   "metadata": {},
   "source": [
    "Secara keseluruhan, saya mengambil data di daerah 'Enfield'. Di sana, kasus terbanyak adalah pencurian dan kasus terdikit adalah kekerasan seksual. Perkembangan kasus narkoba tidak sejalan dengan kasus kekerasan. Alasannya adalah kasus kekerasan selalu meningkat, tetapi kasus narkoba menurun sehingga penyebab kekerasan tidak kebanyakan berasal dari penyalahgunaan narkoba. Pada tahun 2010 merupakan kasus terdikit di kotan Enfield dalam periode 2008 - 2016. Akan tetapi, kasus terbanyak justru terjadi di tahun 2016. "
   ]
  }
 ],
 "metadata": {
  "kernelspec": {
   "display_name": "Python 3 (ipykernel)",
   "language": "python",
   "name": "python3"
  },
  "language_info": {
   "codemirror_mode": {
    "name": "ipython",
    "version": 3
   },
   "file_extension": ".py",
   "mimetype": "text/x-python",
   "name": "python",
   "nbconvert_exporter": "python",
   "pygments_lexer": "ipython3",
   "version": "3.9.2"
  },
  "latex_envs": {
   "LaTeX_envs_menu_present": true,
   "autoclose": false,
   "autocomplete": true,
   "bibliofile": "biblio.bib",
   "cite_by": "apalike",
   "current_citInitial": 1,
   "eqLabelWithNumbers": true,
   "eqNumInitial": 1,
   "hotkeys": {
    "equation": "Ctrl-E",
    "itemize": "Ctrl-I"
   },
   "labels_anchors": false,
   "latex_user_defs": false,
   "report_style_numbering": false,
   "user_envs_cfg": false
  },
  "toc": {
   "base_numbering": 1,
   "nav_menu": {},
   "number_sections": true,
   "sideBar": false,
   "skip_h1_title": false,
   "title_cell": "Table of Contents",
   "title_sidebar": "Contents",
   "toc_cell": false,
   "toc_position": {
    "height": "811.646px",
    "left": "1457.08px",
    "top": "86px",
    "width": "364.25px"
   },
   "toc_section_display": true,
   "toc_window_display": true
  }
 },
 "nbformat": 4,
 "nbformat_minor": 5
}
